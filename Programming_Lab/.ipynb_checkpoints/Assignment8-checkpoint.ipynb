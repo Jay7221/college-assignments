{
 "cells": [
  {
   "cell_type": "markdown",
   "id": "68781c59",
   "metadata": {},
   "source": [
    "# Assignment 8"
   ]
  },
  {
   "cell_type": "markdown",
   "id": "e72ca60b",
   "metadata": {},
   "source": [
    "## Problem 1"
   ]
  },
  {
   "cell_type": "code",
   "execution_count": 16,
   "id": "6b263cd9",
   "metadata": {},
   "outputs": [
    {
     "name": "stdout",
     "output_type": "stream",
     "text": [
      "a) [1.5, 'Python', -5, 4, 0, 8, -3.2, 'C++']\n",
      "b) [1.5, 'Python', -5, 4, 0, 8, -3.2, 'C++', 0.8]\n",
      "c) [1.5, 'Python', -5, 4, 0, 8, -3.2, 'C++', 0.8, 1, 1.5, 6, 0, 8]\n",
      "d) [1.5, 'Python', 500, -5, 4, 0, 8, -3.2, 'C++', 0.8, 1, 1.5, 6, 0, 8]\n",
      "e) [1.5, 'Python', 500, -5, 4, 0, 8, -3.2, 0.8, 1, 1.5, 6, 0, 8]\n",
      "f) [1.5, 'Python', 500, -5, 4, 8, -3.2, 0.8, 1, 1.5, 6, 0, 8]\n",
      "g) Index of element -5 is : 3\n",
      "h) Occruence of 4 in lst is :  1\n",
      "i) [500, -5, 4, 8]\n",
      "j) [8, 0, 6, 1.5, 1, 0.8, -3.2, 8, 4, -5, 500, 'Python', 1.5]\n",
      "k) [8, 0, 6, 1.5, 1, 0.8, -3.2, 8, 4, -5, 500, 'Python', 1.5]\n"
     ]
    }
   ],
   "source": [
    "lst = [1.5, \"Python\", -5, 4, 0, 8, -3.2, 'C++']\n",
    "print('a)', lst)\n",
    "lst.append(0.8)\n",
    "print('b)', lst)\n",
    "lst.extend([1, 1.5, 6, 0, 8])\n",
    "print('c)', lst)\n",
    "lst.insert(2, 500)\n",
    "print('d)', lst)\n",
    "lst.remove('C++')\n",
    "print('e)', lst)\n",
    "lst.pop(5)\n",
    "print('f)', lst)\n",
    "print('g)', 'Index of element -5 is :' ,lst.index(-5))\n",
    "print('h)', 'Occruence of 4 in lst is : ', lst.count(4))\n",
    "print('i)', lst[2:6])\n",
    "lst.reverse()\n",
    "print('j)', lst)\n",
    "newLst = lst.copy()\n",
    "print('k)', newLst)"
   ]
  },
  {
   "cell_type": "markdown",
   "id": "2ca78eae",
   "metadata": {},
   "source": [
    "## Problem 2"
   ]
  },
  {
   "cell_type": "code",
   "execution_count": 33,
   "id": "8c0209c5",
   "metadata": {},
   "outputs": [
    {
     "name": "stdout",
     "output_type": "stream",
     "text": [
      "dict_keys(['Jay', 'Rahul'])\n",
      "dict_values([34, 43])\n",
      "Roll No. of  Jay 34\n",
      "Roll No. of  Rahul 43\n",
      "Roll No. of  Chinmay NOT AVALIABLE\n",
      "Value\n",
      "{'Jay': 34, 'Rahul': 43, 'Chinmay': 'NOT AVALIABLE'}\n",
      "{'Jay': 34, 'Rahul': 43, 'Chinmay': 'NOT AVALIABLE'}\n",
      "3\n"
     ]
    }
   ],
   "source": [
    "newDict = {'Jay' : 34, 'Rahul' : 43}\n",
    "print(newDict.keys())\n",
    "print(newDict.values())\n",
    "for name in ['Jay', 'Rahul', 'Chinmay']:\n",
    "    newDict.setdefault(name, 'NOT AVALIABLE')\n",
    "    print('Roll No. of ', name, newDict[name])\n",
    "newDict['newKey'] = 'Value'\n",
    "print(newDict['newKey'])\n",
    "del newDict['newKey']\n",
    "print(newDict)\n",
    "copyDict = newDict.copy()\n",
    "print(copyDict)\n",
    "print(len(newDict))\n",
    "del newDict"
   ]
  },
  {
   "cell_type": "markdown",
   "id": "9485d0b3",
   "metadata": {},
   "source": [
    "## Problem 3"
   ]
  },
  {
   "cell_type": "code",
   "execution_count": 12,
   "id": "68557a62",
   "metadata": {},
   "outputs": [
    {
     "name": "stdout",
     "output_type": "stream",
     "text": [
      "Initially : a = 10, b = 43\n",
      "After swapping with temporary variable : a = 43, b = 10\n",
      "After swapping without temporary variable : a = 10, b = 43\n"
     ]
    }
   ],
   "source": [
    "def swapTemp(a, b):\n",
    "    tmp = a\n",
    "    a = b\n",
    "    b = tmp\n",
    "    return [a, b]\n",
    "def swapWithoutTemp(a, b):\n",
    "    a = a ^ b\n",
    "    b = a ^ b\n",
    "    a = a ^ b\n",
    "    return [a, b]\n",
    "    \n",
    "a = 10\n",
    "b = 43\n",
    "print(f\"Initially : a = {a}, b = {b}\")\n",
    "a, b = swapTemp(a, b)\n",
    "print(f\"After swapping with temporary variable : a = {a}, b = {b}\")\n",
    "a, b = swapWithoutTemp(a, b)\n",
    "print(f\"After swapping without temporary variable : a = {a}, b = {b}\")"
   ]
  },
  {
   "cell_type": "markdown",
   "id": "7d3f74b4",
   "metadata": {},
   "source": [
    "## Problem 4"
   ]
  },
  {
   "cell_type": "code",
   "execution_count": 15,
   "id": "21d05393",
   "metadata": {},
   "outputs": [
    {
     "name": "stdout",
     "output_type": "stream",
     "text": [
      "The numbers are : a = 10, b = 43, c = 52, d = 352\n",
      "Mean = 457, variance = 136563.75, standard deviation = 369.54532874872064\n"
     ]
    }
   ],
   "source": [
    "import math\n",
    "def analyze(a, b, c, d):\n",
    "    mean = (a + b + c + d)\n",
    "    variance = 0\n",
    "    for x in [a, b, c, d]:\n",
    "        variance += (x - mean) ** 2\n",
    "    variance /= 4\n",
    "    stdDeviation = math.sqrt(variance)\n",
    "    return [mean, variance, stdDeviation]\n",
    "a = 10\n",
    "b = 43\n",
    "c = 52\n",
    "d = 352\n",
    "print(f\"The numbers are : a = {a}, b = {b}, c = {c}, d = {d}\")\n",
    "mean, var, stdDev = analyze(a, b, c, d)\n",
    "print(f\"Mean = {mean}, variance = {var}, standard deviation = {stdDev}\")\n"
   ]
  },
  {
   "cell_type": "code",
   "execution_count": null,
   "id": "da89fc50",
   "metadata": {},
   "outputs": [],
   "source": []
  }
 ],
 "metadata": {
  "kernelspec": {
   "display_name": "Python 3 (ipykernel)",
   "language": "python",
   "name": "python3"
  },
  "language_info": {
   "codemirror_mode": {
    "name": "ipython",
    "version": 3
   },
   "file_extension": ".py",
   "mimetype": "text/x-python",
   "name": "python",
   "nbconvert_exporter": "python",
   "pygments_lexer": "ipython3",
   "version": "3.10.6"
  }
 },
 "nbformat": 4,
 "nbformat_minor": 5
}
