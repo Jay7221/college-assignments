{
 "cells": [
  {
   "cell_type": "code",
   "execution_count": 1,
   "metadata": {},
   "outputs": [
    {
     "name": "stderr",
     "output_type": "stream",
     "text": [
      "/home/oneautumleaf/.local/lib/python3.10/site-packages/matplotlib/projections/__init__.py:63: UserWarning: Unable to import Axes3D. This may be due to multiple versions of Matplotlib being installed (e.g. as a system package and as a pip package). As a result, the 3D projection is not available.\n",
      "  warnings.warn(\"Unable to import Axes3D. This may be due to multiple versions of \"\n"
     ]
    }
   ],
   "source": [
    "import pandas as pd\n",
    "import matplotlib.pyplot as plt"
   ]
  },
  {
   "cell_type": "code",
   "execution_count": 2,
   "metadata": {},
   "outputs": [],
   "source": [
    "df = pd.read_excel('./datasets/Real estate valuation data set.xlsx', index_col=\"No\")"
   ]
  },
  {
   "cell_type": "code",
   "execution_count": 3,
   "metadata": {},
   "outputs": [
    {
     "data": {
      "text/html": [
       "<div>\n",
       "<style scoped>\n",
       "    .dataframe tbody tr th:only-of-type {\n",
       "        vertical-align: middle;\n",
       "    }\n",
       "\n",
       "    .dataframe tbody tr th {\n",
       "        vertical-align: top;\n",
       "    }\n",
       "\n",
       "    .dataframe thead th {\n",
       "        text-align: right;\n",
       "    }\n",
       "</style>\n",
       "<table border=\"1\" class=\"dataframe\">\n",
       "  <thead>\n",
       "    <tr style=\"text-align: right;\">\n",
       "      <th></th>\n",
       "      <th>X1 transaction date</th>\n",
       "      <th>X2 house age</th>\n",
       "      <th>X3 distance to the nearest MRT station</th>\n",
       "      <th>X4 number of convenience stores</th>\n",
       "      <th>X5 latitude</th>\n",
       "      <th>X6 longitude</th>\n",
       "      <th>Y house price of unit area</th>\n",
       "    </tr>\n",
       "    <tr>\n",
       "      <th>No</th>\n",
       "      <th></th>\n",
       "      <th></th>\n",
       "      <th></th>\n",
       "      <th></th>\n",
       "      <th></th>\n",
       "      <th></th>\n",
       "      <th></th>\n",
       "    </tr>\n",
       "  </thead>\n",
       "  <tbody>\n",
       "    <tr>\n",
       "      <th>1</th>\n",
       "      <td>2012.916667</td>\n",
       "      <td>32.0</td>\n",
       "      <td>84.87882</td>\n",
       "      <td>10</td>\n",
       "      <td>24.98298</td>\n",
       "      <td>121.54024</td>\n",
       "      <td>37.9</td>\n",
       "    </tr>\n",
       "    <tr>\n",
       "      <th>2</th>\n",
       "      <td>2012.916667</td>\n",
       "      <td>19.5</td>\n",
       "      <td>306.59470</td>\n",
       "      <td>9</td>\n",
       "      <td>24.98034</td>\n",
       "      <td>121.53951</td>\n",
       "      <td>42.2</td>\n",
       "    </tr>\n",
       "    <tr>\n",
       "      <th>3</th>\n",
       "      <td>2013.583333</td>\n",
       "      <td>13.3</td>\n",
       "      <td>561.98450</td>\n",
       "      <td>5</td>\n",
       "      <td>24.98746</td>\n",
       "      <td>121.54391</td>\n",
       "      <td>47.3</td>\n",
       "    </tr>\n",
       "    <tr>\n",
       "      <th>4</th>\n",
       "      <td>2013.500000</td>\n",
       "      <td>13.3</td>\n",
       "      <td>561.98450</td>\n",
       "      <td>5</td>\n",
       "      <td>24.98746</td>\n",
       "      <td>121.54391</td>\n",
       "      <td>54.8</td>\n",
       "    </tr>\n",
       "    <tr>\n",
       "      <th>5</th>\n",
       "      <td>2012.833333</td>\n",
       "      <td>5.0</td>\n",
       "      <td>390.56840</td>\n",
       "      <td>5</td>\n",
       "      <td>24.97937</td>\n",
       "      <td>121.54245</td>\n",
       "      <td>43.1</td>\n",
       "    </tr>\n",
       "  </tbody>\n",
       "</table>\n",
       "</div>"
      ],
      "text/plain": [
       "    X1 transaction date  X2 house age  X3 distance to the nearest MRT station  \\\n",
       "No                                                                              \n",
       "1           2012.916667          32.0                                84.87882   \n",
       "2           2012.916667          19.5                               306.59470   \n",
       "3           2013.583333          13.3                               561.98450   \n",
       "4           2013.500000          13.3                               561.98450   \n",
       "5           2012.833333           5.0                               390.56840   \n",
       "\n",
       "    X4 number of convenience stores  X5 latitude  X6 longitude  \\\n",
       "No                                                               \n",
       "1                                10     24.98298     121.54024   \n",
       "2                                 9     24.98034     121.53951   \n",
       "3                                 5     24.98746     121.54391   \n",
       "4                                 5     24.98746     121.54391   \n",
       "5                                 5     24.97937     121.54245   \n",
       "\n",
       "    Y house price of unit area  \n",
       "No                              \n",
       "1                         37.9  \n",
       "2                         42.2  \n",
       "3                         47.3  \n",
       "4                         54.8  \n",
       "5                         43.1  "
      ]
     },
     "execution_count": 3,
     "metadata": {},
     "output_type": "execute_result"
    }
   ],
   "source": [
    "df.head()"
   ]
  },
  {
   "cell_type": "code",
   "execution_count": 4,
   "metadata": {},
   "outputs": [
    {
     "data": {
      "text/plain": [
       "Index(['X1 transaction date', 'X2 house age',\n",
       "       'X3 distance to the nearest MRT station',\n",
       "       'X4 number of convenience stores', 'X5 latitude', 'X6 longitude',\n",
       "       'Y house price of unit area'],\n",
       "      dtype='object')"
      ]
     },
     "execution_count": 4,
     "metadata": {},
     "output_type": "execute_result"
    }
   ],
   "source": [
    "df.columns"
   ]
  },
  {
   "cell_type": "code",
   "execution_count": 5,
   "metadata": {},
   "outputs": [
    {
     "name": "stdout",
     "output_type": "stream",
     "text": [
      "Number of null values: X1 transaction date                       0\n",
      "X2 house age                              0\n",
      "X3 distance to the nearest MRT station    0\n",
      "X4 number of convenience stores           0\n",
      "X5 latitude                               0\n",
      "X6 longitude                              0\n",
      "Y house price of unit area                0\n",
      "dtype: int64\n"
     ]
    }
   ],
   "source": [
    "print(f\"Number of null values: {df.isnull().sum()}\")"
   ]
  },
  {
   "cell_type": "code",
   "execution_count": 6,
   "metadata": {},
   "outputs": [
    {
     "data": {
      "text/plain": [
       "X1 transaction date                       float64\n",
       "X2 house age                              float64\n",
       "X3 distance to the nearest MRT station    float64\n",
       "X4 number of convenience stores             int64\n",
       "X5 latitude                               float64\n",
       "X6 longitude                              float64\n",
       "Y house price of unit area                float64\n",
       "dtype: object"
      ]
     },
     "execution_count": 6,
     "metadata": {},
     "output_type": "execute_result"
    }
   ],
   "source": [
    "df.dtypes"
   ]
  },
  {
   "cell_type": "markdown",
   "metadata": {},
   "source": [
    "### Standardization"
   ]
  },
  {
   "cell_type": "code",
   "execution_count": 7,
   "metadata": {},
   "outputs": [],
   "source": [
    "from sklearn.preprocessing import StandardScaler"
   ]
  },
  {
   "cell_type": "code",
   "execution_count": 8,
   "metadata": {},
   "outputs": [],
   "source": [
    "standard_scaler = StandardScaler()"
   ]
  },
  {
   "cell_type": "code",
   "execution_count": 9,
   "metadata": {},
   "outputs": [],
   "source": [
    "df_preprocessed = pd.DataFrame(\n",
    "    standard_scaler.fit_transform(df), columns=df.columns)"
   ]
  },
  {
   "cell_type": "code",
   "execution_count": 10,
   "metadata": {},
   "outputs": [
    {
     "name": "stdout",
     "output_type": "stream",
     "text": [
      "Min:\n",
      "X1 transaction date                      -1.712334\n",
      "X2 house age                             -1.556639\n",
      "X3 distance to the nearest MRT station   -0.841279\n",
      "X4 number of convenience stores          -1.391638\n",
      "X5 latitude                              -2.981805\n",
      "X6 longitude                             -3.903223\n",
      "Y house price of unit area               -2.235474\n",
      "dtype: float64\n",
      "------------------\n",
      "Max:\n",
      "X1 transaction date                       1.542244\n",
      "X2 house age                              2.292652\n",
      "X3 distance to the nearest MRT station    4.287008\n",
      "X4 number of convenience stores           2.007407\n",
      "X5 latitude                               3.675611\n",
      "X6 longitude                              2.146891\n",
      "Y house price of unit area                5.851328\n",
      "dtype: float64\n",
      "------------------\n",
      "Mean:\n",
      "X1 transaction date                      -5.030522e-13\n",
      "X2 house age                             -9.225042e-17\n",
      "X3 distance to the nearest MRT station   -1.265762e-16\n",
      "X4 number of convenience stores          -7.508755e-18\n",
      "X5 latitude                               1.343166e-13\n",
      "X6 longitude                             -1.614537e-12\n",
      "Y house price of unit area                8.581434e-17\n",
      "dtype: float64\n",
      "------------------\n",
      "Std:\n",
      "X1 transaction date                       1.00121\n",
      "X2 house age                              1.00121\n",
      "X3 distance to the nearest MRT station    1.00121\n",
      "X4 number of convenience stores           1.00121\n",
      "X5 latitude                               1.00121\n",
      "X6 longitude                              1.00121\n",
      "Y house price of unit area                1.00121\n",
      "dtype: float64\n",
      "------------------\n"
     ]
    }
   ],
   "source": [
    "print(f\"Min:\\n{df_preprocessed.min()}\")\n",
    "print('------------------')\n",
    "print(f\"Max:\\n{df_preprocessed.max()}\")\n",
    "print('------------------')\n",
    "print(f\"Mean:\\n{df_preprocessed.mean()}\")\n",
    "print('------------------')\n",
    "print(f\"Std:\\n{df_preprocessed.std()}\")\n",
    "print('------------------')"
   ]
  },
  {
   "cell_type": "code",
   "execution_count": 11,
   "metadata": {},
   "outputs": [
    {
     "name": "stdout",
     "output_type": "stream",
     "text": [
      "Target col: Y house price of unit area\n"
     ]
    }
   ],
   "source": [
    "target_col = df.columns[6]\n",
    "print(f\"Target col: {target_col}\")\n",
    "X = df_preprocessed.drop(target_col, axis=1)\n",
    "y = df_preprocessed[target_col]"
   ]
  },
  {
   "cell_type": "markdown",
   "metadata": {},
   "source": [
    "### Train test split"
   ]
  },
  {
   "cell_type": "code",
   "execution_count": 12,
   "metadata": {},
   "outputs": [],
   "source": [
    "from sklearn.model_selection import train_test_split\n",
    "\n",
    "# Split the data into train and test sets (80% train, 30% test)\n",
    "X_train, X_test, y_train, y_test = train_test_split(\n",
    "    X, y, test_size=0.3, random_state=42)"
   ]
  },
  {
   "cell_type": "code",
   "execution_count": 13,
   "metadata": {},
   "outputs": [
    {
     "name": "stdout",
     "output_type": "stream",
     "text": [
      "X:(414, 6)\n",
      "train:(289, 6)\n",
      "test:(125, 6)\n",
      "-----------------\n",
      "y:(414,)\n",
      "train:(289,)\n",
      "test:(125,)\n"
     ]
    }
   ],
   "source": [
    "print(f\"X:{X.shape}\\ntrain:{X_train.shape}\\ntest:{X_test.shape}\")\n",
    "print(\"-----------------\")\n",
    "print(f\"y:{y.shape}\\ntrain:{y_train.shape}\\ntest:{y_test.shape}\")"
   ]
  },
  {
   "cell_type": "markdown",
   "metadata": {},
   "source": [
    "### Train a linear regression model"
   ]
  },
  {
   "cell_type": "code",
   "execution_count": 19,
   "metadata": {},
   "outputs": [],
   "source": [
    "from sklearn.linear_model import LinearRegression\n",
    "from sklearn.metrics import mean_squared_error, accuracy_score"
   ]
  },
  {
   "cell_type": "code",
   "execution_count": 22,
   "metadata": {},
   "outputs": [
    {
     "name": "stdout",
     "output_type": "stream",
     "text": [
      "Single Feature Model for X1 transaction date: \n",
      "Coefficient: [0.08241592]\n",
      "Intercept: 0.029547786728138084\n",
      "Training Error: 1.0302492484417247\n",
      "Testing Error: 0.9076674792392131\n",
      "----------------\n",
      "Single Feature Model for X2 house age: \n",
      "Coefficient: [-0.20866208]\n",
      "Intercept: 0.02914724748335111\n",
      "Training Error: 0.9935035509361515\n",
      "Testing Error: 0.8709965095606861\n",
      "----------------\n",
      "Single Feature Model for X3 distance to the nearest MRT station: \n",
      "Coefficient: [-0.69854448]\n",
      "Intercept: 0.024025853151548482\n",
      "Training Error: 0.5601043569794457\n",
      "Testing Error: 0.5181750722242255\n",
      "----------------\n",
      "Single Feature Model for X4 number of convenience stores: \n",
      "Coefficient: [0.57665432]\n",
      "Intercept: 0.017846499394452476\n",
      "Training Error: 0.6951622711093801\n",
      "Testing Error: 0.6260790308861538\n",
      "----------------\n",
      "Single Feature Model for X5 latitude: \n",
      "Coefficient: [0.55512985]\n",
      "Intercept: 0.009076046888492957\n",
      "Training Error: 0.7235531795501517\n",
      "Testing Error: 0.651206134273995\n",
      "----------------\n",
      "Single Feature Model for X6 longitude: \n",
      "Coefficient: [0.5445728]\n",
      "Intercept: 0.02871072243613803\n",
      "Training Error: 0.7500513982012522\n",
      "Testing Error: 0.6751910739071075\n",
      "----------------\n"
     ]
    }
   ],
   "source": [
    "for col in X_train.columns:\n",
    "    single_feature_model = LinearRegression()\n",
    "    single_feature_model.fit(X_train[[col]], y_train)\n",
    "    print(f\"Single Feature Model for {col}: \")\n",
    "    print(f\"Coefficient: {single_feature_model.coef_}\")\n",
    "    print(f\"Intercept: {single_feature_model.intercept_}\")\n",
    "    train_error = mean_squared_error(\n",
    "        y_train, single_feature_model.predict(X_train[[col]]))\n",
    "    test_error = mean_squared_error(\n",
    "        y_test, single_feature_model.predict(X_test[[col]]))\n",
    "    print(f\"Training Error: {train_error}\")\n",
    "    print(f\"Testing Error: {test_error}\")\n",
    "    print(\"----------------\")"
   ]
  },
  {
   "cell_type": "code",
   "execution_count": 24,
   "metadata": {},
   "outputs": [
    {
     "data": {
      "text/html": [
       "<style>#sk-container-id-2 {color: black;background-color: white;}#sk-container-id-2 pre{padding: 0;}#sk-container-id-2 div.sk-toggleable {background-color: white;}#sk-container-id-2 label.sk-toggleable__label {cursor: pointer;display: block;width: 100%;margin-bottom: 0;padding: 0.3em;box-sizing: border-box;text-align: center;}#sk-container-id-2 label.sk-toggleable__label-arrow:before {content: \"▸\";float: left;margin-right: 0.25em;color: #696969;}#sk-container-id-2 label.sk-toggleable__label-arrow:hover:before {color: black;}#sk-container-id-2 div.sk-estimator:hover label.sk-toggleable__label-arrow:before {color: black;}#sk-container-id-2 div.sk-toggleable__content {max-height: 0;max-width: 0;overflow: hidden;text-align: left;background-color: #f0f8ff;}#sk-container-id-2 div.sk-toggleable__content pre {margin: 0.2em;color: black;border-radius: 0.25em;background-color: #f0f8ff;}#sk-container-id-2 input.sk-toggleable__control:checked~div.sk-toggleable__content {max-height: 200px;max-width: 100%;overflow: auto;}#sk-container-id-2 input.sk-toggleable__control:checked~label.sk-toggleable__label-arrow:before {content: \"▾\";}#sk-container-id-2 div.sk-estimator input.sk-toggleable__control:checked~label.sk-toggleable__label {background-color: #d4ebff;}#sk-container-id-2 div.sk-label input.sk-toggleable__control:checked~label.sk-toggleable__label {background-color: #d4ebff;}#sk-container-id-2 input.sk-hidden--visually {border: 0;clip: rect(1px 1px 1px 1px);clip: rect(1px, 1px, 1px, 1px);height: 1px;margin: -1px;overflow: hidden;padding: 0;position: absolute;width: 1px;}#sk-container-id-2 div.sk-estimator {font-family: monospace;background-color: #f0f8ff;border: 1px dotted black;border-radius: 0.25em;box-sizing: border-box;margin-bottom: 0.5em;}#sk-container-id-2 div.sk-estimator:hover {background-color: #d4ebff;}#sk-container-id-2 div.sk-parallel-item::after {content: \"\";width: 100%;border-bottom: 1px solid gray;flex-grow: 1;}#sk-container-id-2 div.sk-label:hover label.sk-toggleable__label {background-color: #d4ebff;}#sk-container-id-2 div.sk-serial::before {content: \"\";position: absolute;border-left: 1px solid gray;box-sizing: border-box;top: 0;bottom: 0;left: 50%;z-index: 0;}#sk-container-id-2 div.sk-serial {display: flex;flex-direction: column;align-items: center;background-color: white;padding-right: 0.2em;padding-left: 0.2em;position: relative;}#sk-container-id-2 div.sk-item {position: relative;z-index: 1;}#sk-container-id-2 div.sk-parallel {display: flex;align-items: stretch;justify-content: center;background-color: white;position: relative;}#sk-container-id-2 div.sk-item::before, #sk-container-id-2 div.sk-parallel-item::before {content: \"\";position: absolute;border-left: 1px solid gray;box-sizing: border-box;top: 0;bottom: 0;left: 50%;z-index: -1;}#sk-container-id-2 div.sk-parallel-item {display: flex;flex-direction: column;z-index: 1;position: relative;background-color: white;}#sk-container-id-2 div.sk-parallel-item:first-child::after {align-self: flex-end;width: 50%;}#sk-container-id-2 div.sk-parallel-item:last-child::after {align-self: flex-start;width: 50%;}#sk-container-id-2 div.sk-parallel-item:only-child::after {width: 0;}#sk-container-id-2 div.sk-dashed-wrapped {border: 1px dashed gray;margin: 0 0.4em 0.5em 0.4em;box-sizing: border-box;padding-bottom: 0.4em;background-color: white;}#sk-container-id-2 div.sk-label label {font-family: monospace;font-weight: bold;display: inline-block;line-height: 1.2em;}#sk-container-id-2 div.sk-label-container {text-align: center;}#sk-container-id-2 div.sk-container {/* jupyter's `normalize.less` sets `[hidden] { display: none; }` but bootstrap.min.css set `[hidden] { display: none !important; }` so we also need the `!important` here to be able to override the default hidden behavior on the sphinx rendered scikit-learn.org. See: https://github.com/scikit-learn/scikit-learn/issues/21755 */display: inline-block !important;position: relative;}#sk-container-id-2 div.sk-text-repr-fallback {display: none;}</style><div id=\"sk-container-id-2\" class=\"sk-top-container\"><div class=\"sk-text-repr-fallback\"><pre>LinearRegression()</pre><b>In a Jupyter environment, please rerun this cell to show the HTML representation or trust the notebook. <br />On GitHub, the HTML representation is unable to render, please try loading this page with nbviewer.org.</b></div><div class=\"sk-container\" hidden><div class=\"sk-item\"><div class=\"sk-estimator sk-toggleable\"><input class=\"sk-toggleable__control sk-hidden--visually\" id=\"sk-estimator-id-2\" type=\"checkbox\" checked><label for=\"sk-estimator-id-2\" class=\"sk-toggleable__label sk-toggleable__label-arrow\">LinearRegression</label><div class=\"sk-toggleable__content\"><pre>LinearRegression()</pre></div></div></div></div></div>"
      ],
      "text/plain": [
       "LinearRegression()"
      ]
     },
     "execution_count": 24,
     "metadata": {},
     "output_type": "execute_result"
    }
   ],
   "source": [
    "multiple_features_model = LinearRegression()\n",
    "multiple_features_model.fit(X_train, y_train)"
   ]
  },
  {
   "cell_type": "code",
   "execution_count": 25,
   "metadata": {},
   "outputs": [
    {
     "name": "stdout",
     "output_type": "stream",
     "text": [
      "Training Error (MSE): 0.42912127728573446\n",
      "Test Error (MSE): 0.398320264438555\n"
     ]
    }
   ],
   "source": [
    "train_error_multiple = mean_squared_error(\n",
    "    y_train, multiple_features_model.predict(X_train))\n",
    "test_error_multiple = mean_squared_error(\n",
    "    y_test, multiple_features_model.predict(X_test))\n",
    "print(\"Training Error (MSE):\", train_error_multiple)\n",
    "print(\"Test Error (MSE):\", test_error_multiple)"
   ]
  },
  {
   "cell_type": "code",
   "execution_count": 26,
   "metadata": {},
   "outputs": [
    {
     "data": {
      "text/plain": [
       "array([ 0.12124468, -0.20308428, -0.47665578,  0.23261738,  0.21807861,\n",
       "       -0.05891929])"
      ]
     },
     "execution_count": 26,
     "metadata": {},
     "output_type": "execute_result"
    }
   ],
   "source": [
    "multiple_features_model.coef_"
   ]
  },
  {
   "cell_type": "code",
   "execution_count": 27,
   "metadata": {},
   "outputs": [
    {
     "data": {
      "text/plain": [
       "0.00026615452713350113"
      ]
     },
     "execution_count": 27,
     "metadata": {},
     "output_type": "execute_result"
    }
   ],
   "source": [
    "multiple_features_model.intercept_"
   ]
  },
  {
   "cell_type": "markdown",
   "metadata": {},
   "source": [
    "a. **General Multiple Linear Regression Equation:**\n",
    "   In multiple linear regression, the relationship between the dependent variable (Y) and multiple independent variables (X1, X2, ..., Xp) is modeled as a linear combination of the independent variables, each weighted by a coefficient:\n",
    "\n",
    "   The general multiple linear regression equation can be represented as:\n",
    "\n",
    "   ```\n",
    "   Y = b0 + b1*X1 + b2*X2 + ... + bp*Xp + e\n",
    "   ```\n",
    "\n",
    "   - Y is the dependent variable (also known as the response variable or target variable).\n",
    "   - X1, X2, ..., Xp are the independent variables (also known as predictor variables or features).\n",
    "   - b0 is the intercept term (the value of Y when all independent variables are zero).\n",
    "   - b1, b2, ..., bp are the coefficients (also known as regression coefficients or parameters), representing the change in Y for a one-unit change in the corresponding independent variable, holding other variables constant.\n",
    "   - e is the error term, representing the difference between the observed value of Y and the value predicted by the model. It captures the effects of all other factors not included in the model.\n"
   ]
  },
  {
   "cell_type": "markdown",
   "metadata": {},
   "source": [
    "b. **Concept of Dummy Variable and Calculation:**\n",
    "   - A dummy variable (also known as an indicator variable) is a binary variable used to represent categorical data in regression analysis.\n",
    "   - It takes on the value of 0 or 1 to indicate the absence or presence of a particular category, respectively.\n",
    "   - Dummy variables are necessary in linear regression because categorical variables cannot be directly included in the model equation. Linear regression assumes numerical inputs.\n",
    "   - To convert a nominal variable with k categories into dummy variables, we create (k-1) dummy variables. Each dummy variable represents one category of the nominal variable.\n",
    "   - For example, if we have a nominal variable \"Color\" with categories {Red, Green, Blue}, we create two dummy variables: \"Green\" and \"Blue\". If both of these dummy variables are 0, it implies that the color is \"Red\".\n"
   ]
  },
  {
   "cell_type": "markdown",
   "metadata": {},
   "source": [
    "c. **Assumptions in Linear Regression:**\n",
    "   Linear regression relies on several key assumptions for its validity:\n",
    "   1. **Linearity**: The relationship between the dependent variable and independent variables is linear.\n",
    "   2. **Independence**: The residuals (the differences between observed and predicted values) are independent of each other.\n",
    "   3. **Homoscedasticity**: The variance of the residuals is constant across all levels of the independent variables.\n",
    "   4. **Normality**: The residuals are normally distributed.\n",
    "   5. **No multicollinearity**: There is no perfect multicollinearity between independent variables, meaning that one independent variable should not be perfectly predicted by a linear combination of other independent variables.\n",
    "   6. **No autocorrelation**: The residuals are not correlated with each other (applicable to time series data).\n",
    "\n",
    "   Violations of these assumptions can lead to biased estimates and incorrect inferences drawn from the model. It's important to assess these assumptions when interpreting the results of a linear regression analysis."
   ]
  },
  {
   "cell_type": "markdown",
   "metadata": {},
   "source": []
  }
 ],
 "metadata": {
  "kernelspec": {
   "display_name": "Python 3",
   "language": "python",
   "name": "python3"
  },
  "language_info": {
   "codemirror_mode": {
    "name": "ipython",
    "version": 3
   },
   "file_extension": ".py",
   "mimetype": "text/x-python",
   "name": "python",
   "nbconvert_exporter": "python",
   "pygments_lexer": "ipython3",
   "version": "3.10.12"
  }
 },
 "nbformat": 4,
 "nbformat_minor": 2
}
