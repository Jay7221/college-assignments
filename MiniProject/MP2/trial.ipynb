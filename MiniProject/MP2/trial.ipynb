{
 "cells": [
  {
   "cell_type": "code",
   "execution_count": 67,
   "metadata": {},
   "outputs": [],
   "source": [
    "import pandas as pd\n",
    "import seaborn as sns\n",
    "from datetime import timedelta\n",
    "from datetime import datetime"
   ]
  },
  {
   "cell_type": "code",
   "execution_count": 68,
   "metadata": {},
   "outputs": [],
   "source": [
    "disease_df = pd.read_csv('disease_data.csv', index_col='Date')\n",
    "weather_df = pd.read_csv('weather_data.csv', index_col='datetime')"
   ]
  },
  {
   "cell_type": "code",
   "execution_count": 69,
   "metadata": {},
   "outputs": [
    {
     "data": {
      "text/plain": [
       "Index(['name', 'tempmax', 'tempmin', 'temp', 'feelslikemax', 'feelslikemin',\n",
       "       'feelslike', 'dew', 'humidity', 'precip', 'precipprob', 'precipcover',\n",
       "       'preciptype', 'snow', 'snowdepth', 'windgust', 'windspeed', 'winddir',\n",
       "       'sealevelpressure', 'cloudcover', 'visibility', 'solarradiation',\n",
       "       'solarenergy', 'uvindex', 'severerisk', 'sunrise', 'sunset',\n",
       "       'moonphase', 'conditions', 'description', 'icon', 'stations'],\n",
       "      dtype='object')"
      ]
     },
     "execution_count": 69,
     "metadata": {},
     "output_type": "execute_result"
    }
   ],
   "source": [
    "weather_df.columns"
   ]
  },
  {
   "cell_type": "code",
   "execution_count": 70,
   "metadata": {},
   "outputs": [],
   "source": [
    "selected_cols = ['temp', 'dew', 'humidity', 'precip']"
   ]
  },
  {
   "cell_type": "code",
   "execution_count": 71,
   "metadata": {},
   "outputs": [],
   "source": [
    "reduced_weather_df = weather_df[selected_cols]"
   ]
  },
  {
   "cell_type": "code",
   "execution_count": 72,
   "metadata": {},
   "outputs": [],
   "source": [
    "column_names = list(disease_df.columns)\n",
    "for i in range(7):\n",
    "    for col in reduced_weather_df.columns:\n",
    "        column_names.append(f\"day_{i}_{col}\")\n",
    "column_names.append('days_after_pruning')"
   ]
  },
  {
   "cell_type": "code",
   "execution_count": 73,
   "metadata": {},
   "outputs": [],
   "source": [
    "data = []"
   ]
  },
  {
   "cell_type": "code",
   "execution_count": 74,
   "metadata": {},
   "outputs": [],
   "source": [
    "def generate_week(date_str):\n",
    "    date = datetime.strptime(date_str, \"%Y-%m-%d\")\n",
    "    week = []\n",
    "    for i in range(7):\n",
    "        day = date - timedelta(days=i)\n",
    "        week.append(day.strftime(\"%Y-%m-%d\"))\n",
    "    week.reverse()\n",
    "    return week\n"
   ]
  },
  {
   "cell_type": "code",
   "execution_count": 75,
   "metadata": {},
   "outputs": [],
   "source": [
    "for date in disease_df.index:\n",
    "    try:\n",
    "        drow = list(disease_df.loc[date])\n",
    "        week = generate_week(date)\n",
    "        for i in range(len(week)):\n",
    "            row = reduced_weather_df.loc[week[i]]\n",
    "            drow.extend(row)\n",
    "        cur_date = datetime.strptime(date, '%Y-%m-%d')\n",
    "        pruning_date = datetime.strptime(f'{cur_date.year}-09-25', '%Y-%m-%d')\n",
    "        if pruning_date > cur_date:\n",
    "            pruning_date = datetime.strptime(f'{cur_date.year - 1}-09-25', '%Y-%m-%d')\n",
    "        diff = cur_date - pruning_date\n",
    "        drow.append(diff.days)\n",
    "        data.append(drow)\n",
    "    except:\n",
    "        pass"
   ]
  },
  {
   "cell_type": "code",
   "execution_count": 76,
   "metadata": {},
   "outputs": [],
   "source": [
    "data_df = pd.DataFrame(data, columns=column_names)"
   ]
  },
  {
   "cell_type": "code",
   "execution_count": 78,
   "metadata": {},
   "outputs": [],
   "source": [
    "data_df = data_df.drop(['Rust', 'Bacterial Spot', 'Bunch Rot'], axis=1)"
   ]
  },
  {
   "cell_type": "code",
   "execution_count": 79,
   "metadata": {},
   "outputs": [],
   "source": [
    "data_df = data_df.dropna(subset=['Downy Mildew'])"
   ]
  },
  {
   "cell_type": "code",
   "execution_count": 83,
   "metadata": {},
   "outputs": [
    {
     "data": {
      "text/html": [
       "<div>\n",
       "<style scoped>\n",
       "    .dataframe tbody tr th:only-of-type {\n",
       "        vertical-align: middle;\n",
       "    }\n",
       "\n",
       "    .dataframe tbody tr th {\n",
       "        vertical-align: top;\n",
       "    }\n",
       "\n",
       "    .dataframe thead th {\n",
       "        text-align: right;\n",
       "    }\n",
       "</style>\n",
       "<table border=\"1\" class=\"dataframe\">\n",
       "  <thead>\n",
       "    <tr style=\"text-align: right;\">\n",
       "      <th></th>\n",
       "      <th>Downy Mildew</th>\n",
       "      <th>Powdery Mildew</th>\n",
       "      <th>Anthracnose</th>\n",
       "      <th>day_0_temp</th>\n",
       "      <th>day_0_dew</th>\n",
       "      <th>day_0_humidity</th>\n",
       "      <th>day_0_precip</th>\n",
       "      <th>day_1_temp</th>\n",
       "      <th>day_1_dew</th>\n",
       "      <th>day_1_humidity</th>\n",
       "      <th>...</th>\n",
       "      <th>day_4_precip</th>\n",
       "      <th>day_5_temp</th>\n",
       "      <th>day_5_dew</th>\n",
       "      <th>day_5_humidity</th>\n",
       "      <th>day_5_precip</th>\n",
       "      <th>day_6_temp</th>\n",
       "      <th>day_6_dew</th>\n",
       "      <th>day_6_humidity</th>\n",
       "      <th>day_6_precip</th>\n",
       "      <th>days_after_pruning</th>\n",
       "    </tr>\n",
       "  </thead>\n",
       "  <tbody>\n",
       "    <tr>\n",
       "      <th>0</th>\n",
       "      <td>moderate</td>\n",
       "      <td>low</td>\n",
       "      <td>moderate</td>\n",
       "      <td>23.9</td>\n",
       "      <td>8.7</td>\n",
       "      <td>40.1</td>\n",
       "      <td>0.0</td>\n",
       "      <td>22.9</td>\n",
       "      <td>5.8</td>\n",
       "      <td>34.5</td>\n",
       "      <td>...</td>\n",
       "      <td>0.0</td>\n",
       "      <td>23.6</td>\n",
       "      <td>9.5</td>\n",
       "      <td>42.7</td>\n",
       "      <td>0.0</td>\n",
       "      <td>23.3</td>\n",
       "      <td>10.4</td>\n",
       "      <td>46.3</td>\n",
       "      <td>0.0</td>\n",
       "      <td>94</td>\n",
       "    </tr>\n",
       "    <tr>\n",
       "      <th>1</th>\n",
       "      <td>moderate</td>\n",
       "      <td>low</td>\n",
       "      <td>moderate</td>\n",
       "      <td>21.9</td>\n",
       "      <td>10.8</td>\n",
       "      <td>50.2</td>\n",
       "      <td>0.0</td>\n",
       "      <td>22.3</td>\n",
       "      <td>13.6</td>\n",
       "      <td>58.4</td>\n",
       "      <td>...</td>\n",
       "      <td>0.0</td>\n",
       "      <td>22.4</td>\n",
       "      <td>11.1</td>\n",
       "      <td>49.8</td>\n",
       "      <td>0.0</td>\n",
       "      <td>23.2</td>\n",
       "      <td>11.9</td>\n",
       "      <td>50.0</td>\n",
       "      <td>0.0</td>\n",
       "      <td>87</td>\n",
       "    </tr>\n",
       "    <tr>\n",
       "      <th>2</th>\n",
       "      <td>moderate</td>\n",
       "      <td>low</td>\n",
       "      <td>moderate</td>\n",
       "      <td>23.4</td>\n",
       "      <td>16.4</td>\n",
       "      <td>66.2</td>\n",
       "      <td>0.0</td>\n",
       "      <td>24.4</td>\n",
       "      <td>16.2</td>\n",
       "      <td>61.8</td>\n",
       "      <td>...</td>\n",
       "      <td>0.0</td>\n",
       "      <td>23.5</td>\n",
       "      <td>12.2</td>\n",
       "      <td>51.0</td>\n",
       "      <td>0.0</td>\n",
       "      <td>22.3</td>\n",
       "      <td>11.7</td>\n",
       "      <td>52.2</td>\n",
       "      <td>0.0</td>\n",
       "      <td>80</td>\n",
       "    </tr>\n",
       "    <tr>\n",
       "      <th>3</th>\n",
       "      <td>moderate</td>\n",
       "      <td>low</td>\n",
       "      <td>moderate</td>\n",
       "      <td>25.4</td>\n",
       "      <td>18.3</td>\n",
       "      <td>66.8</td>\n",
       "      <td>1.1</td>\n",
       "      <td>25.6</td>\n",
       "      <td>16.8</td>\n",
       "      <td>59.3</td>\n",
       "      <td>...</td>\n",
       "      <td>0.0</td>\n",
       "      <td>23.8</td>\n",
       "      <td>17.8</td>\n",
       "      <td>70.3</td>\n",
       "      <td>0.1</td>\n",
       "      <td>22.9</td>\n",
       "      <td>16.9</td>\n",
       "      <td>70.7</td>\n",
       "      <td>0.0</td>\n",
       "      <td>73</td>\n",
       "    </tr>\n",
       "    <tr>\n",
       "      <th>4</th>\n",
       "      <td>moderate</td>\n",
       "      <td>low</td>\n",
       "      <td>moderate</td>\n",
       "      <td>25.7</td>\n",
       "      <td>18.8</td>\n",
       "      <td>66.7</td>\n",
       "      <td>0.1</td>\n",
       "      <td>25.6</td>\n",
       "      <td>19.3</td>\n",
       "      <td>69.3</td>\n",
       "      <td>...</td>\n",
       "      <td>0.2</td>\n",
       "      <td>24.5</td>\n",
       "      <td>18.8</td>\n",
       "      <td>72.7</td>\n",
       "      <td>1.9</td>\n",
       "      <td>25.9</td>\n",
       "      <td>18.9</td>\n",
       "      <td>66.5</td>\n",
       "      <td>5.0</td>\n",
       "      <td>66</td>\n",
       "    </tr>\n",
       "    <tr>\n",
       "      <th>...</th>\n",
       "      <td>...</td>\n",
       "      <td>...</td>\n",
       "      <td>...</td>\n",
       "      <td>...</td>\n",
       "      <td>...</td>\n",
       "      <td>...</td>\n",
       "      <td>...</td>\n",
       "      <td>...</td>\n",
       "      <td>...</td>\n",
       "      <td>...</td>\n",
       "      <td>...</td>\n",
       "      <td>...</td>\n",
       "      <td>...</td>\n",
       "      <td>...</td>\n",
       "      <td>...</td>\n",
       "      <td>...</td>\n",
       "      <td>...</td>\n",
       "      <td>...</td>\n",
       "      <td>...</td>\n",
       "      <td>...</td>\n",
       "      <td>...</td>\n",
       "    </tr>\n",
       "    <tr>\n",
       "      <th>267</th>\n",
       "      <td>low</td>\n",
       "      <td>moderate</td>\n",
       "      <td>nil</td>\n",
       "      <td>26.8</td>\n",
       "      <td>16.8</td>\n",
       "      <td>56.1</td>\n",
       "      <td>0.0</td>\n",
       "      <td>26.8</td>\n",
       "      <td>15.5</td>\n",
       "      <td>51.0</td>\n",
       "      <td>...</td>\n",
       "      <td>0.0</td>\n",
       "      <td>23.6</td>\n",
       "      <td>11.2</td>\n",
       "      <td>48.0</td>\n",
       "      <td>0.0</td>\n",
       "      <td>24.4</td>\n",
       "      <td>11.0</td>\n",
       "      <td>45.4</td>\n",
       "      <td>0.0</td>\n",
       "      <td>51</td>\n",
       "    </tr>\n",
       "    <tr>\n",
       "      <th>270</th>\n",
       "      <td>low</td>\n",
       "      <td>nil</td>\n",
       "      <td>nil</td>\n",
       "      <td>25.7</td>\n",
       "      <td>20.6</td>\n",
       "      <td>75.8</td>\n",
       "      <td>8.0</td>\n",
       "      <td>26.0</td>\n",
       "      <td>18.0</td>\n",
       "      <td>64.6</td>\n",
       "      <td>...</td>\n",
       "      <td>0.0</td>\n",
       "      <td>26.7</td>\n",
       "      <td>19.6</td>\n",
       "      <td>66.8</td>\n",
       "      <td>0.3</td>\n",
       "      <td>26.0</td>\n",
       "      <td>19.9</td>\n",
       "      <td>70.8</td>\n",
       "      <td>0.5</td>\n",
       "      <td>30</td>\n",
       "    </tr>\n",
       "    <tr>\n",
       "      <th>272</th>\n",
       "      <td>low</td>\n",
       "      <td>nil</td>\n",
       "      <td>nil</td>\n",
       "      <td>27.2</td>\n",
       "      <td>19.9</td>\n",
       "      <td>65.7</td>\n",
       "      <td>0.0</td>\n",
       "      <td>27.6</td>\n",
       "      <td>18.0</td>\n",
       "      <td>57.7</td>\n",
       "      <td>...</td>\n",
       "      <td>0.0</td>\n",
       "      <td>26.5</td>\n",
       "      <td>20.5</td>\n",
       "      <td>73.2</td>\n",
       "      <td>0.0</td>\n",
       "      <td>27.6</td>\n",
       "      <td>20.1</td>\n",
       "      <td>68.9</td>\n",
       "      <td>0.0</td>\n",
       "      <td>16</td>\n",
       "    </tr>\n",
       "    <tr>\n",
       "      <th>280</th>\n",
       "      <td>moderate</td>\n",
       "      <td>moderate</td>\n",
       "      <td>high</td>\n",
       "      <td>25.1</td>\n",
       "      <td>21.7</td>\n",
       "      <td>81.9</td>\n",
       "      <td>0.2</td>\n",
       "      <td>24.4</td>\n",
       "      <td>21.6</td>\n",
       "      <td>84.9</td>\n",
       "      <td>...</td>\n",
       "      <td>6.0</td>\n",
       "      <td>24.1</td>\n",
       "      <td>21.7</td>\n",
       "      <td>86.5</td>\n",
       "      <td>5.0</td>\n",
       "      <td>23.0</td>\n",
       "      <td>21.5</td>\n",
       "      <td>91.5</td>\n",
       "      <td>1.0</td>\n",
       "      <td>325</td>\n",
       "    </tr>\n",
       "    <tr>\n",
       "      <th>281</th>\n",
       "      <td>moderate</td>\n",
       "      <td>moderate</td>\n",
       "      <td>high</td>\n",
       "      <td>25.3</td>\n",
       "      <td>21.9</td>\n",
       "      <td>81.4</td>\n",
       "      <td>12.7</td>\n",
       "      <td>24.8</td>\n",
       "      <td>21.7</td>\n",
       "      <td>83.2</td>\n",
       "      <td>...</td>\n",
       "      <td>4.0</td>\n",
       "      <td>24.5</td>\n",
       "      <td>21.7</td>\n",
       "      <td>85.0</td>\n",
       "      <td>2.0</td>\n",
       "      <td>24.9</td>\n",
       "      <td>21.6</td>\n",
       "      <td>82.2</td>\n",
       "      <td>5.3</td>\n",
       "      <td>318</td>\n",
       "    </tr>\n",
       "  </tbody>\n",
       "</table>\n",
       "<p>229 rows × 32 columns</p>\n",
       "</div>"
      ],
      "text/plain": [
       "    Downy Mildew Powdery Mildew Anthracnose  day_0_temp  day_0_dew  \\\n",
       "0       moderate            low    moderate        23.9        8.7   \n",
       "1       moderate            low    moderate        21.9       10.8   \n",
       "2       moderate            low    moderate        23.4       16.4   \n",
       "3       moderate            low    moderate        25.4       18.3   \n",
       "4       moderate            low    moderate        25.7       18.8   \n",
       "..           ...            ...         ...         ...        ...   \n",
       "267          low       moderate         nil        26.8       16.8   \n",
       "270          low            nil         nil        25.7       20.6   \n",
       "272          low            nil         nil        27.2       19.9   \n",
       "280     moderate       moderate        high        25.1       21.7   \n",
       "281     moderate       moderate        high        25.3       21.9   \n",
       "\n",
       "     day_0_humidity  day_0_precip  day_1_temp  day_1_dew  day_1_humidity  ...  \\\n",
       "0              40.1           0.0        22.9        5.8            34.5  ...   \n",
       "1              50.2           0.0        22.3       13.6            58.4  ...   \n",
       "2              66.2           0.0        24.4       16.2            61.8  ...   \n",
       "3              66.8           1.1        25.6       16.8            59.3  ...   \n",
       "4              66.7           0.1        25.6       19.3            69.3  ...   \n",
       "..              ...           ...         ...        ...             ...  ...   \n",
       "267            56.1           0.0        26.8       15.5            51.0  ...   \n",
       "270            75.8           8.0        26.0       18.0            64.6  ...   \n",
       "272            65.7           0.0        27.6       18.0            57.7  ...   \n",
       "280            81.9           0.2        24.4       21.6            84.9  ...   \n",
       "281            81.4          12.7        24.8       21.7            83.2  ...   \n",
       "\n",
       "     day_4_precip  day_5_temp  day_5_dew  day_5_humidity  day_5_precip  \\\n",
       "0             0.0        23.6        9.5            42.7           0.0   \n",
       "1             0.0        22.4       11.1            49.8           0.0   \n",
       "2             0.0        23.5       12.2            51.0           0.0   \n",
       "3             0.0        23.8       17.8            70.3           0.1   \n",
       "4             0.2        24.5       18.8            72.7           1.9   \n",
       "..            ...         ...        ...             ...           ...   \n",
       "267           0.0        23.6       11.2            48.0           0.0   \n",
       "270           0.0        26.7       19.6            66.8           0.3   \n",
       "272           0.0        26.5       20.5            73.2           0.0   \n",
       "280           6.0        24.1       21.7            86.5           5.0   \n",
       "281           4.0        24.5       21.7            85.0           2.0   \n",
       "\n",
       "     day_6_temp  day_6_dew  day_6_humidity  day_6_precip  days_after_pruning  \n",
       "0          23.3       10.4            46.3           0.0                  94  \n",
       "1          23.2       11.9            50.0           0.0                  87  \n",
       "2          22.3       11.7            52.2           0.0                  80  \n",
       "3          22.9       16.9            70.7           0.0                  73  \n",
       "4          25.9       18.9            66.5           5.0                  66  \n",
       "..          ...        ...             ...           ...                 ...  \n",
       "267        24.4       11.0            45.4           0.0                  51  \n",
       "270        26.0       19.9            70.8           0.5                  30  \n",
       "272        27.6       20.1            68.9           0.0                  16  \n",
       "280        23.0       21.5            91.5           1.0                 325  \n",
       "281        24.9       21.6            82.2           5.3                 318  \n",
       "\n",
       "[229 rows x 32 columns]"
      ]
     },
     "execution_count": 83,
     "metadata": {},
     "output_type": "execute_result"
    }
   ],
   "source": [
    "data_df"
   ]
  },
  {
   "cell_type": "code",
   "execution_count": 84,
   "metadata": {},
   "outputs": [],
   "source": [
    "data_df.to_csv('processed_data.csv', index=False)"
   ]
  },
  {
   "cell_type": "markdown",
   "metadata": {},
   "source": [
    "### Dataset loading"
   ]
  },
  {
   "cell_type": "code",
   "execution_count": 16,
   "metadata": {},
   "outputs": [],
   "source": [
    "import pandas as pd\n",
    "import seaborn as sns"
   ]
  },
  {
   "cell_type": "code",
   "execution_count": 17,
   "metadata": {},
   "outputs": [],
   "source": [
    "data_df = pd.read_csv('processed_data.csv')"
   ]
  },
  {
   "cell_type": "markdown",
   "metadata": {},
   "source": [
    "### Train Test Split"
   ]
  },
  {
   "cell_type": "code",
   "execution_count": 18,
   "metadata": {},
   "outputs": [],
   "source": [
    "X = data_df.drop(['Downy Mildew', 'Anthracnose', 'Powdery Mildew'], axis=1)\n",
    "y1 = data_df['Downy Mildew']\n",
    "y2 = data_df['Powdery Mildew']\n",
    "y3 = data_df['Anthracnose']"
   ]
  },
  {
   "cell_type": "code",
   "execution_count": 19,
   "metadata": {},
   "outputs": [],
   "source": [
    "from sklearn.model_selection import train_test_split"
   ]
  },
  {
   "cell_type": "code",
   "execution_count": 20,
   "metadata": {},
   "outputs": [],
   "source": [
    "X_train, X_test, y1_train, y1_test, y2_train, y2_test, y3_train, y3_test = train_test_split(X, y1, y2, y3, random_state=40)"
   ]
  },
  {
   "cell_type": "markdown",
   "metadata": {},
   "source": [
    "### Model Training"
   ]
  },
  {
   "cell_type": "code",
   "execution_count": 21,
   "metadata": {},
   "outputs": [],
   "source": [
    "from sklearn.ensemble import RandomForestClassifier\n",
    "from sklearn.tree import DecisionTreeClassifier\n",
    "from sklearn.linear_model import LogisticRegression\n",
    "from sklearn.svm import SVC\n",
    "from sklearn.metrics import accuracy_score, f1_score, precision_score, recall_score"
   ]
  },
  {
   "cell_type": "markdown",
   "metadata": {},
   "source": [
    "#### Random Forest Classifier"
   ]
  },
  {
   "cell_type": "code",
   "execution_count": 22,
   "metadata": {},
   "outputs": [],
   "source": [
    "downy_clf = RandomForestClassifier(random_state=40)\n",
    "powdery_clf = RandomForestClassifier(random_state=40)\n",
    "anthra_clf = RandomForestClassifier(random_state=40)"
   ]
  },
  {
   "cell_type": "code",
   "execution_count": 23,
   "metadata": {},
   "outputs": [
    {
     "data": {
      "text/html": [
       "<style>#sk-container-id-1 {color: black;background-color: white;}#sk-container-id-1 pre{padding: 0;}#sk-container-id-1 div.sk-toggleable {background-color: white;}#sk-container-id-1 label.sk-toggleable__label {cursor: pointer;display: block;width: 100%;margin-bottom: 0;padding: 0.3em;box-sizing: border-box;text-align: center;}#sk-container-id-1 label.sk-toggleable__label-arrow:before {content: \"▸\";float: left;margin-right: 0.25em;color: #696969;}#sk-container-id-1 label.sk-toggleable__label-arrow:hover:before {color: black;}#sk-container-id-1 div.sk-estimator:hover label.sk-toggleable__label-arrow:before {color: black;}#sk-container-id-1 div.sk-toggleable__content {max-height: 0;max-width: 0;overflow: hidden;text-align: left;background-color: #f0f8ff;}#sk-container-id-1 div.sk-toggleable__content pre {margin: 0.2em;color: black;border-radius: 0.25em;background-color: #f0f8ff;}#sk-container-id-1 input.sk-toggleable__control:checked~div.sk-toggleable__content {max-height: 200px;max-width: 100%;overflow: auto;}#sk-container-id-1 input.sk-toggleable__control:checked~label.sk-toggleable__label-arrow:before {content: \"▾\";}#sk-container-id-1 div.sk-estimator input.sk-toggleable__control:checked~label.sk-toggleable__label {background-color: #d4ebff;}#sk-container-id-1 div.sk-label input.sk-toggleable__control:checked~label.sk-toggleable__label {background-color: #d4ebff;}#sk-container-id-1 input.sk-hidden--visually {border: 0;clip: rect(1px 1px 1px 1px);clip: rect(1px, 1px, 1px, 1px);height: 1px;margin: -1px;overflow: hidden;padding: 0;position: absolute;width: 1px;}#sk-container-id-1 div.sk-estimator {font-family: monospace;background-color: #f0f8ff;border: 1px dotted black;border-radius: 0.25em;box-sizing: border-box;margin-bottom: 0.5em;}#sk-container-id-1 div.sk-estimator:hover {background-color: #d4ebff;}#sk-container-id-1 div.sk-parallel-item::after {content: \"\";width: 100%;border-bottom: 1px solid gray;flex-grow: 1;}#sk-container-id-1 div.sk-label:hover label.sk-toggleable__label {background-color: #d4ebff;}#sk-container-id-1 div.sk-serial::before {content: \"\";position: absolute;border-left: 1px solid gray;box-sizing: border-box;top: 0;bottom: 0;left: 50%;z-index: 0;}#sk-container-id-1 div.sk-serial {display: flex;flex-direction: column;align-items: center;background-color: white;padding-right: 0.2em;padding-left: 0.2em;position: relative;}#sk-container-id-1 div.sk-item {position: relative;z-index: 1;}#sk-container-id-1 div.sk-parallel {display: flex;align-items: stretch;justify-content: center;background-color: white;position: relative;}#sk-container-id-1 div.sk-item::before, #sk-container-id-1 div.sk-parallel-item::before {content: \"\";position: absolute;border-left: 1px solid gray;box-sizing: border-box;top: 0;bottom: 0;left: 50%;z-index: -1;}#sk-container-id-1 div.sk-parallel-item {display: flex;flex-direction: column;z-index: 1;position: relative;background-color: white;}#sk-container-id-1 div.sk-parallel-item:first-child::after {align-self: flex-end;width: 50%;}#sk-container-id-1 div.sk-parallel-item:last-child::after {align-self: flex-start;width: 50%;}#sk-container-id-1 div.sk-parallel-item:only-child::after {width: 0;}#sk-container-id-1 div.sk-dashed-wrapped {border: 1px dashed gray;margin: 0 0.4em 0.5em 0.4em;box-sizing: border-box;padding-bottom: 0.4em;background-color: white;}#sk-container-id-1 div.sk-label label {font-family: monospace;font-weight: bold;display: inline-block;line-height: 1.2em;}#sk-container-id-1 div.sk-label-container {text-align: center;}#sk-container-id-1 div.sk-container {/* jupyter's `normalize.less` sets `[hidden] { display: none; }` but bootstrap.min.css set `[hidden] { display: none !important; }` so we also need the `!important` here to be able to override the default hidden behavior on the sphinx rendered scikit-learn.org. See: https://github.com/scikit-learn/scikit-learn/issues/21755 */display: inline-block !important;position: relative;}#sk-container-id-1 div.sk-text-repr-fallback {display: none;}</style><div id=\"sk-container-id-1\" class=\"sk-top-container\"><div class=\"sk-text-repr-fallback\"><pre>RandomForestClassifier(random_state=40)</pre><b>In a Jupyter environment, please rerun this cell to show the HTML representation or trust the notebook. <br />On GitHub, the HTML representation is unable to render, please try loading this page with nbviewer.org.</b></div><div class=\"sk-container\" hidden><div class=\"sk-item\"><div class=\"sk-estimator sk-toggleable\"><input class=\"sk-toggleable__control sk-hidden--visually\" id=\"sk-estimator-id-1\" type=\"checkbox\" checked><label for=\"sk-estimator-id-1\" class=\"sk-toggleable__label sk-toggleable__label-arrow\">RandomForestClassifier</label><div class=\"sk-toggleable__content\"><pre>RandomForestClassifier(random_state=40)</pre></div></div></div></div></div>"
      ],
      "text/plain": [
       "RandomForestClassifier(random_state=40)"
      ]
     },
     "execution_count": 23,
     "metadata": {},
     "output_type": "execute_result"
    }
   ],
   "source": [
    "downy_clf.fit(X_train, y1_train)\n",
    "powdery_clf.fit(X_train, y2_train)\n",
    "anthra_clf.fit(X_train, y3_train)"
   ]
  },
  {
   "cell_type": "code",
   "execution_count": 24,
   "metadata": {},
   "outputs": [],
   "source": [
    "y1_pred = downy_clf.predict(X_test)\n",
    "y2_pred = powdery_clf.predict(X_test)\n",
    "y3_pred = anthra_clf.predict(X_test)"
   ]
  },
  {
   "cell_type": "code",
   "execution_count": 25,
   "metadata": {},
   "outputs": [
    {
     "name": "stdout",
     "output_type": "stream",
     "text": [
      "\n",
      "Downy Mildew:\n",
      "    Accuracy: 0.6206896551724138\n",
      "    F1 Score: 0.6206896551724138\n",
      "    Precision: 0.6206896551724138\n",
      "    Recall: 0.6206896551724138\n",
      "\n",
      "\n",
      "Powdery Mildew:\n",
      "    Accuracy: 0.5862068965517241\n",
      "    F1 Score: 0.5862068965517241\n",
      "    Precision: 0.5862068965517241\n",
      "    Recall: 0.5862068965517241\n",
      "\n",
      "\n",
      "Anthracnose:\n",
      "    Accuracy: 0.6551724137931034\n",
      "    F1 Score: 0.6551724137931034\n",
      "    Precision: 0.6551724137931034\n",
      "    Recall: 0.6551724137931034\n",
      "\n"
     ]
    }
   ],
   "source": [
    "print(f\"\"\"\n",
    "Downy Mildew:\n",
    "    Accuracy: {accuracy_score(y1_test, y1_pred)}\n",
    "    F1 Score: {f1_score(y1_test, y1_pred, average='micro')}\n",
    "    Precision: {precision_score(y1_test, y1_pred, average='micro')}\n",
    "    Recall: {recall_score(y1_test, y1_pred, average='micro')}\n",
    "\"\"\")\n",
    "print(f\"\"\"\n",
    "Powdery Mildew:\n",
    "    Accuracy: {accuracy_score(y2_test, y2_pred)}\n",
    "    F1 Score: {f1_score(y2_test, y2_pred, average='micro')}\n",
    "    Precision: {precision_score(y2_test, y2_pred, average='micro')}\n",
    "    Recall: {recall_score(y2_test, y2_pred, average='micro')}\n",
    "\"\"\")\n",
    "print(f\"\"\"\n",
    "Anthracnose:\n",
    "    Accuracy: {accuracy_score(y3_test, y3_pred)}\n",
    "    F1 Score: {f1_score(y3_test, y3_pred, average='micro')}\n",
    "    Precision: {precision_score(y3_test, y3_pred, average='micro')}\n",
    "    Recall: {recall_score(y3_test, y3_pred, average='micro')}\n",
    "\"\"\")"
   ]
  },
  {
   "cell_type": "markdown",
   "metadata": {},
   "source": [
    "#### Decision Tree Classifier"
   ]
  },
  {
   "cell_type": "code",
   "execution_count": 26,
   "metadata": {},
   "outputs": [],
   "source": [
    "downy_clf = DecisionTreeClassifier(random_state=40)\n",
    "powdery_clf = DecisionTreeClassifier(random_state=40)\n",
    "anthra_clf = DecisionTreeClassifier(random_state=40)"
   ]
  },
  {
   "cell_type": "code",
   "execution_count": 27,
   "metadata": {},
   "outputs": [
    {
     "data": {
      "text/html": [
       "<style>#sk-container-id-2 {color: black;background-color: white;}#sk-container-id-2 pre{padding: 0;}#sk-container-id-2 div.sk-toggleable {background-color: white;}#sk-container-id-2 label.sk-toggleable__label {cursor: pointer;display: block;width: 100%;margin-bottom: 0;padding: 0.3em;box-sizing: border-box;text-align: center;}#sk-container-id-2 label.sk-toggleable__label-arrow:before {content: \"▸\";float: left;margin-right: 0.25em;color: #696969;}#sk-container-id-2 label.sk-toggleable__label-arrow:hover:before {color: black;}#sk-container-id-2 div.sk-estimator:hover label.sk-toggleable__label-arrow:before {color: black;}#sk-container-id-2 div.sk-toggleable__content {max-height: 0;max-width: 0;overflow: hidden;text-align: left;background-color: #f0f8ff;}#sk-container-id-2 div.sk-toggleable__content pre {margin: 0.2em;color: black;border-radius: 0.25em;background-color: #f0f8ff;}#sk-container-id-2 input.sk-toggleable__control:checked~div.sk-toggleable__content {max-height: 200px;max-width: 100%;overflow: auto;}#sk-container-id-2 input.sk-toggleable__control:checked~label.sk-toggleable__label-arrow:before {content: \"▾\";}#sk-container-id-2 div.sk-estimator input.sk-toggleable__control:checked~label.sk-toggleable__label {background-color: #d4ebff;}#sk-container-id-2 div.sk-label input.sk-toggleable__control:checked~label.sk-toggleable__label {background-color: #d4ebff;}#sk-container-id-2 input.sk-hidden--visually {border: 0;clip: rect(1px 1px 1px 1px);clip: rect(1px, 1px, 1px, 1px);height: 1px;margin: -1px;overflow: hidden;padding: 0;position: absolute;width: 1px;}#sk-container-id-2 div.sk-estimator {font-family: monospace;background-color: #f0f8ff;border: 1px dotted black;border-radius: 0.25em;box-sizing: border-box;margin-bottom: 0.5em;}#sk-container-id-2 div.sk-estimator:hover {background-color: #d4ebff;}#sk-container-id-2 div.sk-parallel-item::after {content: \"\";width: 100%;border-bottom: 1px solid gray;flex-grow: 1;}#sk-container-id-2 div.sk-label:hover label.sk-toggleable__label {background-color: #d4ebff;}#sk-container-id-2 div.sk-serial::before {content: \"\";position: absolute;border-left: 1px solid gray;box-sizing: border-box;top: 0;bottom: 0;left: 50%;z-index: 0;}#sk-container-id-2 div.sk-serial {display: flex;flex-direction: column;align-items: center;background-color: white;padding-right: 0.2em;padding-left: 0.2em;position: relative;}#sk-container-id-2 div.sk-item {position: relative;z-index: 1;}#sk-container-id-2 div.sk-parallel {display: flex;align-items: stretch;justify-content: center;background-color: white;position: relative;}#sk-container-id-2 div.sk-item::before, #sk-container-id-2 div.sk-parallel-item::before {content: \"\";position: absolute;border-left: 1px solid gray;box-sizing: border-box;top: 0;bottom: 0;left: 50%;z-index: -1;}#sk-container-id-2 div.sk-parallel-item {display: flex;flex-direction: column;z-index: 1;position: relative;background-color: white;}#sk-container-id-2 div.sk-parallel-item:first-child::after {align-self: flex-end;width: 50%;}#sk-container-id-2 div.sk-parallel-item:last-child::after {align-self: flex-start;width: 50%;}#sk-container-id-2 div.sk-parallel-item:only-child::after {width: 0;}#sk-container-id-2 div.sk-dashed-wrapped {border: 1px dashed gray;margin: 0 0.4em 0.5em 0.4em;box-sizing: border-box;padding-bottom: 0.4em;background-color: white;}#sk-container-id-2 div.sk-label label {font-family: monospace;font-weight: bold;display: inline-block;line-height: 1.2em;}#sk-container-id-2 div.sk-label-container {text-align: center;}#sk-container-id-2 div.sk-container {/* jupyter's `normalize.less` sets `[hidden] { display: none; }` but bootstrap.min.css set `[hidden] { display: none !important; }` so we also need the `!important` here to be able to override the default hidden behavior on the sphinx rendered scikit-learn.org. See: https://github.com/scikit-learn/scikit-learn/issues/21755 */display: inline-block !important;position: relative;}#sk-container-id-2 div.sk-text-repr-fallback {display: none;}</style><div id=\"sk-container-id-2\" class=\"sk-top-container\"><div class=\"sk-text-repr-fallback\"><pre>DecisionTreeClassifier(random_state=40)</pre><b>In a Jupyter environment, please rerun this cell to show the HTML representation or trust the notebook. <br />On GitHub, the HTML representation is unable to render, please try loading this page with nbviewer.org.</b></div><div class=\"sk-container\" hidden><div class=\"sk-item\"><div class=\"sk-estimator sk-toggleable\"><input class=\"sk-toggleable__control sk-hidden--visually\" id=\"sk-estimator-id-2\" type=\"checkbox\" checked><label for=\"sk-estimator-id-2\" class=\"sk-toggleable__label sk-toggleable__label-arrow\">DecisionTreeClassifier</label><div class=\"sk-toggleable__content\"><pre>DecisionTreeClassifier(random_state=40)</pre></div></div></div></div></div>"
      ],
      "text/plain": [
       "DecisionTreeClassifier(random_state=40)"
      ]
     },
     "execution_count": 27,
     "metadata": {},
     "output_type": "execute_result"
    }
   ],
   "source": [
    "downy_clf.fit(X_train, y1_train)\n",
    "powdery_clf.fit(X_train, y2_train)\n",
    "anthra_clf.fit(X_train, y3_train)"
   ]
  },
  {
   "cell_type": "code",
   "execution_count": 28,
   "metadata": {},
   "outputs": [],
   "source": [
    "y1_pred = downy_clf.predict(X_test)\n",
    "y2_pred = powdery_clf.predict(X_test)\n",
    "y3_pred = anthra_clf.predict(X_test)"
   ]
  },
  {
   "cell_type": "code",
   "execution_count": 29,
   "metadata": {},
   "outputs": [
    {
     "name": "stdout",
     "output_type": "stream",
     "text": [
      "\n",
      "Downy Mildew:\n",
      "    Accuracy: 0.6896551724137931\n",
      "    F1 Score: 0.6896551724137931\n",
      "    Precision: 0.6896551724137931\n",
      "    Recall: 0.6896551724137931\n",
      "\n",
      "\n",
      "Powdery Mildew:\n",
      "    Accuracy: 0.5172413793103449\n",
      "    F1 Score: 0.5172413793103449\n",
      "    Precision: 0.5172413793103449\n",
      "    Recall: 0.5172413793103449\n",
      "\n",
      "\n",
      "Anthracnose:\n",
      "    Accuracy: 0.5862068965517241\n",
      "    F1 Score: 0.5862068965517241\n",
      "    Precision: 0.5862068965517241\n",
      "    Recall: 0.5862068965517241\n",
      "\n"
     ]
    }
   ],
   "source": [
    "print(f\"\"\"\n",
    "Downy Mildew:\n",
    "    Accuracy: {accuracy_score(y1_test, y1_pred)}\n",
    "    F1 Score: {f1_score(y1_test, y1_pred, average='micro')}\n",
    "    Precision: {precision_score(y1_test, y1_pred, average='micro')}\n",
    "    Recall: {recall_score(y1_test, y1_pred, average='micro')}\n",
    "\"\"\")\n",
    "print(f\"\"\"\n",
    "Powdery Mildew:\n",
    "    Accuracy: {accuracy_score(y2_test, y2_pred)}\n",
    "    F1 Score: {f1_score(y2_test, y2_pred, average='micro')}\n",
    "    Precision: {precision_score(y2_test, y2_pred, average='micro')}\n",
    "    Recall: {recall_score(y2_test, y2_pred, average='micro')}\n",
    "\"\"\")\n",
    "print(f\"\"\"\n",
    "Anthracnose:\n",
    "    Accuracy: {accuracy_score(y3_test, y3_pred)}\n",
    "    F1 Score: {f1_score(y3_test, y3_pred, average='micro')}\n",
    "    Precision: {precision_score(y3_test, y3_pred, average='micro')}\n",
    "    Recall: {recall_score(y3_test, y3_pred, average='micro')}\n",
    "\"\"\")"
   ]
  },
  {
   "cell_type": "markdown",
   "metadata": {},
   "source": [
    "#### Support Vector Classifier"
   ]
  },
  {
   "cell_type": "code",
   "execution_count": 30,
   "metadata": {},
   "outputs": [],
   "source": [
    "downy_clf = SVC(random_state=40)\n",
    "powdery_clf = SVC(random_state=40)\n",
    "anthra_clf = SVC(random_state=40)"
   ]
  },
  {
   "cell_type": "code",
   "execution_count": 31,
   "metadata": {},
   "outputs": [
    {
     "data": {
      "text/html": [
       "<style>#sk-container-id-3 {color: black;background-color: white;}#sk-container-id-3 pre{padding: 0;}#sk-container-id-3 div.sk-toggleable {background-color: white;}#sk-container-id-3 label.sk-toggleable__label {cursor: pointer;display: block;width: 100%;margin-bottom: 0;padding: 0.3em;box-sizing: border-box;text-align: center;}#sk-container-id-3 label.sk-toggleable__label-arrow:before {content: \"▸\";float: left;margin-right: 0.25em;color: #696969;}#sk-container-id-3 label.sk-toggleable__label-arrow:hover:before {color: black;}#sk-container-id-3 div.sk-estimator:hover label.sk-toggleable__label-arrow:before {color: black;}#sk-container-id-3 div.sk-toggleable__content {max-height: 0;max-width: 0;overflow: hidden;text-align: left;background-color: #f0f8ff;}#sk-container-id-3 div.sk-toggleable__content pre {margin: 0.2em;color: black;border-radius: 0.25em;background-color: #f0f8ff;}#sk-container-id-3 input.sk-toggleable__control:checked~div.sk-toggleable__content {max-height: 200px;max-width: 100%;overflow: auto;}#sk-container-id-3 input.sk-toggleable__control:checked~label.sk-toggleable__label-arrow:before {content: \"▾\";}#sk-container-id-3 div.sk-estimator input.sk-toggleable__control:checked~label.sk-toggleable__label {background-color: #d4ebff;}#sk-container-id-3 div.sk-label input.sk-toggleable__control:checked~label.sk-toggleable__label {background-color: #d4ebff;}#sk-container-id-3 input.sk-hidden--visually {border: 0;clip: rect(1px 1px 1px 1px);clip: rect(1px, 1px, 1px, 1px);height: 1px;margin: -1px;overflow: hidden;padding: 0;position: absolute;width: 1px;}#sk-container-id-3 div.sk-estimator {font-family: monospace;background-color: #f0f8ff;border: 1px dotted black;border-radius: 0.25em;box-sizing: border-box;margin-bottom: 0.5em;}#sk-container-id-3 div.sk-estimator:hover {background-color: #d4ebff;}#sk-container-id-3 div.sk-parallel-item::after {content: \"\";width: 100%;border-bottom: 1px solid gray;flex-grow: 1;}#sk-container-id-3 div.sk-label:hover label.sk-toggleable__label {background-color: #d4ebff;}#sk-container-id-3 div.sk-serial::before {content: \"\";position: absolute;border-left: 1px solid gray;box-sizing: border-box;top: 0;bottom: 0;left: 50%;z-index: 0;}#sk-container-id-3 div.sk-serial {display: flex;flex-direction: column;align-items: center;background-color: white;padding-right: 0.2em;padding-left: 0.2em;position: relative;}#sk-container-id-3 div.sk-item {position: relative;z-index: 1;}#sk-container-id-3 div.sk-parallel {display: flex;align-items: stretch;justify-content: center;background-color: white;position: relative;}#sk-container-id-3 div.sk-item::before, #sk-container-id-3 div.sk-parallel-item::before {content: \"\";position: absolute;border-left: 1px solid gray;box-sizing: border-box;top: 0;bottom: 0;left: 50%;z-index: -1;}#sk-container-id-3 div.sk-parallel-item {display: flex;flex-direction: column;z-index: 1;position: relative;background-color: white;}#sk-container-id-3 div.sk-parallel-item:first-child::after {align-self: flex-end;width: 50%;}#sk-container-id-3 div.sk-parallel-item:last-child::after {align-self: flex-start;width: 50%;}#sk-container-id-3 div.sk-parallel-item:only-child::after {width: 0;}#sk-container-id-3 div.sk-dashed-wrapped {border: 1px dashed gray;margin: 0 0.4em 0.5em 0.4em;box-sizing: border-box;padding-bottom: 0.4em;background-color: white;}#sk-container-id-3 div.sk-label label {font-family: monospace;font-weight: bold;display: inline-block;line-height: 1.2em;}#sk-container-id-3 div.sk-label-container {text-align: center;}#sk-container-id-3 div.sk-container {/* jupyter's `normalize.less` sets `[hidden] { display: none; }` but bootstrap.min.css set `[hidden] { display: none !important; }` so we also need the `!important` here to be able to override the default hidden behavior on the sphinx rendered scikit-learn.org. See: https://github.com/scikit-learn/scikit-learn/issues/21755 */display: inline-block !important;position: relative;}#sk-container-id-3 div.sk-text-repr-fallback {display: none;}</style><div id=\"sk-container-id-3\" class=\"sk-top-container\"><div class=\"sk-text-repr-fallback\"><pre>SVC(random_state=40)</pre><b>In a Jupyter environment, please rerun this cell to show the HTML representation or trust the notebook. <br />On GitHub, the HTML representation is unable to render, please try loading this page with nbviewer.org.</b></div><div class=\"sk-container\" hidden><div class=\"sk-item\"><div class=\"sk-estimator sk-toggleable\"><input class=\"sk-toggleable__control sk-hidden--visually\" id=\"sk-estimator-id-3\" type=\"checkbox\" checked><label for=\"sk-estimator-id-3\" class=\"sk-toggleable__label sk-toggleable__label-arrow\">SVC</label><div class=\"sk-toggleable__content\"><pre>SVC(random_state=40)</pre></div></div></div></div></div>"
      ],
      "text/plain": [
       "SVC(random_state=40)"
      ]
     },
     "execution_count": 31,
     "metadata": {},
     "output_type": "execute_result"
    }
   ],
   "source": [
    "downy_clf.fit(X_train, y1_train)\n",
    "powdery_clf.fit(X_train, y2_train)\n",
    "anthra_clf.fit(X_train, y3_train)"
   ]
  },
  {
   "cell_type": "code",
   "execution_count": 32,
   "metadata": {},
   "outputs": [],
   "source": [
    "y1_pred = downy_clf.predict(X_test)\n",
    "y2_pred = powdery_clf.predict(X_test)\n",
    "y3_pred = anthra_clf.predict(X_test)"
   ]
  },
  {
   "cell_type": "code",
   "execution_count": 33,
   "metadata": {},
   "outputs": [
    {
     "name": "stdout",
     "output_type": "stream",
     "text": [
      "\n",
      "Downy Mildew:\n",
      "    Accuracy: 0.5344827586206896\n",
      "    F1 Score: 0.5344827586206896\n",
      "    Precision: 0.5344827586206896\n",
      "    Recall: 0.5344827586206896\n",
      "\n",
      "\n",
      "Powdery Mildew:\n",
      "    Accuracy: 0.3448275862068966\n",
      "    F1 Score: 0.3448275862068966\n",
      "    Precision: 0.3448275862068966\n",
      "    Recall: 0.3448275862068966\n",
      "\n",
      "\n",
      "Anthracnose:\n",
      "    Accuracy: 0.6724137931034483\n",
      "    F1 Score: 0.6724137931034483\n",
      "    Precision: 0.6724137931034483\n",
      "    Recall: 0.6724137931034483\n",
      "\n"
     ]
    }
   ],
   "source": [
    "print(f\"\"\"\n",
    "Downy Mildew:\n",
    "    Accuracy: {accuracy_score(y1_test, y1_pred)}\n",
    "    F1 Score: {f1_score(y1_test, y1_pred, average='micro')}\n",
    "    Precision: {precision_score(y1_test, y1_pred, average='micro')}\n",
    "    Recall: {recall_score(y1_test, y1_pred, average='micro')}\n",
    "\"\"\")\n",
    "print(f\"\"\"\n",
    "Powdery Mildew:\n",
    "    Accuracy: {accuracy_score(y2_test, y2_pred)}\n",
    "    F1 Score: {f1_score(y2_test, y2_pred, average='micro')}\n",
    "    Precision: {precision_score(y2_test, y2_pred, average='micro')}\n",
    "    Recall: {recall_score(y2_test, y2_pred, average='micro')}\n",
    "\"\"\")\n",
    "print(f\"\"\"\n",
    "Anthracnose:\n",
    "    Accuracy: {accuracy_score(y3_test, y3_pred)}\n",
    "    F1 Score: {f1_score(y3_test, y3_pred, average='micro')}\n",
    "    Precision: {precision_score(y3_test, y3_pred, average='micro')}\n",
    "    Recall: {recall_score(y3_test, y3_pred, average='micro')}\n",
    "\"\"\")"
   ]
  },
  {
   "cell_type": "markdown",
   "metadata": {},
   "source": [
    "#### Logistic Regression"
   ]
  },
  {
   "cell_type": "code",
   "execution_count": 34,
   "metadata": {},
   "outputs": [],
   "source": [
    "downy_clf = LogisticRegression(random_state=40)\n",
    "powdery_clf = LogisticRegression(random_state=40)\n",
    "anthra_clf = LogisticRegression(random_state=40)"
   ]
  },
  {
   "cell_type": "code",
   "execution_count": 35,
   "metadata": {},
   "outputs": [
    {
     "name": "stderr",
     "output_type": "stream",
     "text": [
      "/home/oneautumleaf/.local/lib/python3.10/site-packages/sklearn/linear_model/_logistic.py:458: ConvergenceWarning: lbfgs failed to converge (status=1):\n",
      "STOP: TOTAL NO. of ITERATIONS REACHED LIMIT.\n",
      "\n",
      "Increase the number of iterations (max_iter) or scale the data as shown in:\n",
      "    https://scikit-learn.org/stable/modules/preprocessing.html\n",
      "Please also refer to the documentation for alternative solver options:\n",
      "    https://scikit-learn.org/stable/modules/linear_model.html#logistic-regression\n",
      "  n_iter_i = _check_optimize_result(\n",
      "/home/oneautumleaf/.local/lib/python3.10/site-packages/sklearn/linear_model/_logistic.py:458: ConvergenceWarning: lbfgs failed to converge (status=1):\n",
      "STOP: TOTAL NO. of ITERATIONS REACHED LIMIT.\n",
      "\n",
      "Increase the number of iterations (max_iter) or scale the data as shown in:\n",
      "    https://scikit-learn.org/stable/modules/preprocessing.html\n",
      "Please also refer to the documentation for alternative solver options:\n",
      "    https://scikit-learn.org/stable/modules/linear_model.html#logistic-regression\n",
      "  n_iter_i = _check_optimize_result(\n",
      "/home/oneautumleaf/.local/lib/python3.10/site-packages/sklearn/linear_model/_logistic.py:458: ConvergenceWarning: lbfgs failed to converge (status=1):\n",
      "STOP: TOTAL NO. of ITERATIONS REACHED LIMIT.\n",
      "\n",
      "Increase the number of iterations (max_iter) or scale the data as shown in:\n",
      "    https://scikit-learn.org/stable/modules/preprocessing.html\n",
      "Please also refer to the documentation for alternative solver options:\n",
      "    https://scikit-learn.org/stable/modules/linear_model.html#logistic-regression\n",
      "  n_iter_i = _check_optimize_result(\n"
     ]
    },
    {
     "data": {
      "text/html": [
       "<style>#sk-container-id-4 {color: black;background-color: white;}#sk-container-id-4 pre{padding: 0;}#sk-container-id-4 div.sk-toggleable {background-color: white;}#sk-container-id-4 label.sk-toggleable__label {cursor: pointer;display: block;width: 100%;margin-bottom: 0;padding: 0.3em;box-sizing: border-box;text-align: center;}#sk-container-id-4 label.sk-toggleable__label-arrow:before {content: \"▸\";float: left;margin-right: 0.25em;color: #696969;}#sk-container-id-4 label.sk-toggleable__label-arrow:hover:before {color: black;}#sk-container-id-4 div.sk-estimator:hover label.sk-toggleable__label-arrow:before {color: black;}#sk-container-id-4 div.sk-toggleable__content {max-height: 0;max-width: 0;overflow: hidden;text-align: left;background-color: #f0f8ff;}#sk-container-id-4 div.sk-toggleable__content pre {margin: 0.2em;color: black;border-radius: 0.25em;background-color: #f0f8ff;}#sk-container-id-4 input.sk-toggleable__control:checked~div.sk-toggleable__content {max-height: 200px;max-width: 100%;overflow: auto;}#sk-container-id-4 input.sk-toggleable__control:checked~label.sk-toggleable__label-arrow:before {content: \"▾\";}#sk-container-id-4 div.sk-estimator input.sk-toggleable__control:checked~label.sk-toggleable__label {background-color: #d4ebff;}#sk-container-id-4 div.sk-label input.sk-toggleable__control:checked~label.sk-toggleable__label {background-color: #d4ebff;}#sk-container-id-4 input.sk-hidden--visually {border: 0;clip: rect(1px 1px 1px 1px);clip: rect(1px, 1px, 1px, 1px);height: 1px;margin: -1px;overflow: hidden;padding: 0;position: absolute;width: 1px;}#sk-container-id-4 div.sk-estimator {font-family: monospace;background-color: #f0f8ff;border: 1px dotted black;border-radius: 0.25em;box-sizing: border-box;margin-bottom: 0.5em;}#sk-container-id-4 div.sk-estimator:hover {background-color: #d4ebff;}#sk-container-id-4 div.sk-parallel-item::after {content: \"\";width: 100%;border-bottom: 1px solid gray;flex-grow: 1;}#sk-container-id-4 div.sk-label:hover label.sk-toggleable__label {background-color: #d4ebff;}#sk-container-id-4 div.sk-serial::before {content: \"\";position: absolute;border-left: 1px solid gray;box-sizing: border-box;top: 0;bottom: 0;left: 50%;z-index: 0;}#sk-container-id-4 div.sk-serial {display: flex;flex-direction: column;align-items: center;background-color: white;padding-right: 0.2em;padding-left: 0.2em;position: relative;}#sk-container-id-4 div.sk-item {position: relative;z-index: 1;}#sk-container-id-4 div.sk-parallel {display: flex;align-items: stretch;justify-content: center;background-color: white;position: relative;}#sk-container-id-4 div.sk-item::before, #sk-container-id-4 div.sk-parallel-item::before {content: \"\";position: absolute;border-left: 1px solid gray;box-sizing: border-box;top: 0;bottom: 0;left: 50%;z-index: -1;}#sk-container-id-4 div.sk-parallel-item {display: flex;flex-direction: column;z-index: 1;position: relative;background-color: white;}#sk-container-id-4 div.sk-parallel-item:first-child::after {align-self: flex-end;width: 50%;}#sk-container-id-4 div.sk-parallel-item:last-child::after {align-self: flex-start;width: 50%;}#sk-container-id-4 div.sk-parallel-item:only-child::after {width: 0;}#sk-container-id-4 div.sk-dashed-wrapped {border: 1px dashed gray;margin: 0 0.4em 0.5em 0.4em;box-sizing: border-box;padding-bottom: 0.4em;background-color: white;}#sk-container-id-4 div.sk-label label {font-family: monospace;font-weight: bold;display: inline-block;line-height: 1.2em;}#sk-container-id-4 div.sk-label-container {text-align: center;}#sk-container-id-4 div.sk-container {/* jupyter's `normalize.less` sets `[hidden] { display: none; }` but bootstrap.min.css set `[hidden] { display: none !important; }` so we also need the `!important` here to be able to override the default hidden behavior on the sphinx rendered scikit-learn.org. See: https://github.com/scikit-learn/scikit-learn/issues/21755 */display: inline-block !important;position: relative;}#sk-container-id-4 div.sk-text-repr-fallback {display: none;}</style><div id=\"sk-container-id-4\" class=\"sk-top-container\"><div class=\"sk-text-repr-fallback\"><pre>LogisticRegression(random_state=40)</pre><b>In a Jupyter environment, please rerun this cell to show the HTML representation or trust the notebook. <br />On GitHub, the HTML representation is unable to render, please try loading this page with nbviewer.org.</b></div><div class=\"sk-container\" hidden><div class=\"sk-item\"><div class=\"sk-estimator sk-toggleable\"><input class=\"sk-toggleable__control sk-hidden--visually\" id=\"sk-estimator-id-4\" type=\"checkbox\" checked><label for=\"sk-estimator-id-4\" class=\"sk-toggleable__label sk-toggleable__label-arrow\">LogisticRegression</label><div class=\"sk-toggleable__content\"><pre>LogisticRegression(random_state=40)</pre></div></div></div></div></div>"
      ],
      "text/plain": [
       "LogisticRegression(random_state=40)"
      ]
     },
     "execution_count": 35,
     "metadata": {},
     "output_type": "execute_result"
    }
   ],
   "source": [
    "downy_clf.fit(X_train, y1_train)\n",
    "powdery_clf.fit(X_train, y2_train)\n",
    "anthra_clf.fit(X_train, y3_train)"
   ]
  },
  {
   "cell_type": "code",
   "execution_count": 36,
   "metadata": {},
   "outputs": [],
   "source": [
    "y1_pred = downy_clf.predict(X_test)\n",
    "y2_pred = powdery_clf.predict(X_test)\n",
    "y3_pred = anthra_clf.predict(X_test)"
   ]
  },
  {
   "cell_type": "code",
   "execution_count": 37,
   "metadata": {},
   "outputs": [
    {
     "name": "stdout",
     "output_type": "stream",
     "text": [
      "\n",
      "Downy Mildew:\n",
      "    Accuracy: 0.46551724137931033\n",
      "    F1 Score: 0.46551724137931033\n",
      "    Precision: 0.46551724137931033\n",
      "    Recall: 0.46551724137931033\n",
      "\n",
      "\n",
      "Powdery Mildew:\n",
      "    Accuracy: 0.39655172413793105\n",
      "    F1 Score: 0.39655172413793105\n",
      "    Precision: 0.39655172413793105\n",
      "    Recall: 0.39655172413793105\n",
      "\n",
      "\n",
      "Anthracnose:\n",
      "    Accuracy: 0.5344827586206896\n",
      "    F1 Score: 0.5344827586206896\n",
      "    Precision: 0.5344827586206896\n",
      "    Recall: 0.5344827586206896\n",
      "\n"
     ]
    }
   ],
   "source": [
    "print(f\"\"\"\n",
    "Downy Mildew:\n",
    "    Accuracy: {accuracy_score(y1_test, y1_pred)}\n",
    "    F1 Score: {f1_score(y1_test, y1_pred, average='micro')}\n",
    "    Precision: {precision_score(y1_test, y1_pred, average='micro')}\n",
    "    Recall: {recall_score(y1_test, y1_pred, average='micro')}\n",
    "\"\"\")\n",
    "print(f\"\"\"\n",
    "Powdery Mildew:\n",
    "    Accuracy: {accuracy_score(y2_test, y2_pred)}\n",
    "    F1 Score: {f1_score(y2_test, y2_pred, average='micro')}\n",
    "    Precision: {precision_score(y2_test, y2_pred, average='micro')}\n",
    "    Recall: {recall_score(y2_test, y2_pred, average='micro')}\n",
    "\"\"\")\n",
    "print(f\"\"\"\n",
    "Anthracnose:\n",
    "    Accuracy: {accuracy_score(y3_test, y3_pred)}\n",
    "    F1 Score: {f1_score(y3_test, y3_pred, average='micro')}\n",
    "    Precision: {precision_score(y3_test, y3_pred, average='micro')}\n",
    "    Recall: {recall_score(y3_test, y3_pred, average='micro')}\n",
    "\"\"\")"
   ]
  },
  {
   "cell_type": "markdown",
   "metadata": {},
   "source": [
    "#### Generic Classification Evaluator"
   ]
  },
  {
   "cell_type": "code",
   "execution_count": 38,
   "metadata": {},
   "outputs": [],
   "source": [
    "from sklearn.linear_model import LogisticRegression\n",
    "from sklearn.tree import DecisionTreeClassifier\n",
    "from sklearn.ensemble import RandomForestClassifier\n",
    "from sklearn.svm import SVC\n",
    "from sklearn.neighbors import KNeighborsClassifier\n",
    "from sklearn.naive_bayes import MultinomialNB\n",
    "from sklearn.ensemble import GradientBoostingClassifier"
   ]
  },
  {
   "cell_type": "code",
   "execution_count": 39,
   "metadata": {},
   "outputs": [
    {
     "data": {
      "text/html": [
       "<style>#sk-container-id-5 {color: black;background-color: white;}#sk-container-id-5 pre{padding: 0;}#sk-container-id-5 div.sk-toggleable {background-color: white;}#sk-container-id-5 label.sk-toggleable__label {cursor: pointer;display: block;width: 100%;margin-bottom: 0;padding: 0.3em;box-sizing: border-box;text-align: center;}#sk-container-id-5 label.sk-toggleable__label-arrow:before {content: \"▸\";float: left;margin-right: 0.25em;color: #696969;}#sk-container-id-5 label.sk-toggleable__label-arrow:hover:before {color: black;}#sk-container-id-5 div.sk-estimator:hover label.sk-toggleable__label-arrow:before {color: black;}#sk-container-id-5 div.sk-toggleable__content {max-height: 0;max-width: 0;overflow: hidden;text-align: left;background-color: #f0f8ff;}#sk-container-id-5 div.sk-toggleable__content pre {margin: 0.2em;color: black;border-radius: 0.25em;background-color: #f0f8ff;}#sk-container-id-5 input.sk-toggleable__control:checked~div.sk-toggleable__content {max-height: 200px;max-width: 100%;overflow: auto;}#sk-container-id-5 input.sk-toggleable__control:checked~label.sk-toggleable__label-arrow:before {content: \"▾\";}#sk-container-id-5 div.sk-estimator input.sk-toggleable__control:checked~label.sk-toggleable__label {background-color: #d4ebff;}#sk-container-id-5 div.sk-label input.sk-toggleable__control:checked~label.sk-toggleable__label {background-color: #d4ebff;}#sk-container-id-5 input.sk-hidden--visually {border: 0;clip: rect(1px 1px 1px 1px);clip: rect(1px, 1px, 1px, 1px);height: 1px;margin: -1px;overflow: hidden;padding: 0;position: absolute;width: 1px;}#sk-container-id-5 div.sk-estimator {font-family: monospace;background-color: #f0f8ff;border: 1px dotted black;border-radius: 0.25em;box-sizing: border-box;margin-bottom: 0.5em;}#sk-container-id-5 div.sk-estimator:hover {background-color: #d4ebff;}#sk-container-id-5 div.sk-parallel-item::after {content: \"\";width: 100%;border-bottom: 1px solid gray;flex-grow: 1;}#sk-container-id-5 div.sk-label:hover label.sk-toggleable__label {background-color: #d4ebff;}#sk-container-id-5 div.sk-serial::before {content: \"\";position: absolute;border-left: 1px solid gray;box-sizing: border-box;top: 0;bottom: 0;left: 50%;z-index: 0;}#sk-container-id-5 div.sk-serial {display: flex;flex-direction: column;align-items: center;background-color: white;padding-right: 0.2em;padding-left: 0.2em;position: relative;}#sk-container-id-5 div.sk-item {position: relative;z-index: 1;}#sk-container-id-5 div.sk-parallel {display: flex;align-items: stretch;justify-content: center;background-color: white;position: relative;}#sk-container-id-5 div.sk-item::before, #sk-container-id-5 div.sk-parallel-item::before {content: \"\";position: absolute;border-left: 1px solid gray;box-sizing: border-box;top: 0;bottom: 0;left: 50%;z-index: -1;}#sk-container-id-5 div.sk-parallel-item {display: flex;flex-direction: column;z-index: 1;position: relative;background-color: white;}#sk-container-id-5 div.sk-parallel-item:first-child::after {align-self: flex-end;width: 50%;}#sk-container-id-5 div.sk-parallel-item:last-child::after {align-self: flex-start;width: 50%;}#sk-container-id-5 div.sk-parallel-item:only-child::after {width: 0;}#sk-container-id-5 div.sk-dashed-wrapped {border: 1px dashed gray;margin: 0 0.4em 0.5em 0.4em;box-sizing: border-box;padding-bottom: 0.4em;background-color: white;}#sk-container-id-5 div.sk-label label {font-family: monospace;font-weight: bold;display: inline-block;line-height: 1.2em;}#sk-container-id-5 div.sk-label-container {text-align: center;}#sk-container-id-5 div.sk-container {/* jupyter's `normalize.less` sets `[hidden] { display: none; }` but bootstrap.min.css set `[hidden] { display: none !important; }` so we also need the `!important` here to be able to override the default hidden behavior on the sphinx rendered scikit-learn.org. See: https://github.com/scikit-learn/scikit-learn/issues/21755 */display: inline-block !important;position: relative;}#sk-container-id-5 div.sk-text-repr-fallback {display: none;}</style><div id=\"sk-container-id-5\" class=\"sk-top-container\"><div class=\"sk-text-repr-fallback\"><pre>LabelEncoder()</pre><b>In a Jupyter environment, please rerun this cell to show the HTML representation or trust the notebook. <br />On GitHub, the HTML representation is unable to render, please try loading this page with nbviewer.org.</b></div><div class=\"sk-container\" hidden><div class=\"sk-item\"><div class=\"sk-estimator sk-toggleable\"><input class=\"sk-toggleable__control sk-hidden--visually\" id=\"sk-estimator-id-5\" type=\"checkbox\" checked><label for=\"sk-estimator-id-5\" class=\"sk-toggleable__label sk-toggleable__label-arrow\">LabelEncoder</label><div class=\"sk-toggleable__content\"><pre>LabelEncoder()</pre></div></div></div></div></div>"
      ],
      "text/plain": [
       "LabelEncoder()"
      ]
     },
     "execution_count": 39,
     "metadata": {},
     "output_type": "execute_result"
    }
   ],
   "source": [
    "from sklearn.preprocessing import LabelEncoder\n",
    "encoder = LabelEncoder()\n",
    "encoder.fit(y1)"
   ]
  },
  {
   "cell_type": "code",
   "execution_count": 40,
   "metadata": {},
   "outputs": [
    {
     "data": {
      "text/plain": [
       "array([0, 0, 1, 4, 3, 4, 4, 4, 3, 1, 1, 3, 4, 1, 4, 3, 4, 1, 3, 4, 1, 1,\n",
       "       3, 3, 1, 0, 4, 0, 1, 1, 4, 4, 4, 1, 4, 4, 3, 3, 4, 3, 1, 0, 1, 1,\n",
       "       4, 3, 3, 4, 4, 4, 3, 1, 1, 1, 4, 3, 4, 0])"
      ]
     },
     "execution_count": 40,
     "metadata": {},
     "output_type": "execute_result"
    }
   ],
   "source": [
    "encoder.transform(y1_test)"
   ]
  },
  {
   "cell_type": "code",
   "execution_count": 41,
   "metadata": {},
   "outputs": [],
   "source": [
    "def get_report(classifier_algorithm, use_random_state=True):\n",
    "\n",
    "    # Instantiate the models\n",
    "    if use_random_state:\n",
    "        downy_clf = classifier_algorithm(random_state=40)\n",
    "        powdery_clf = classifier_algorithm(random_state=40)\n",
    "        anthra_clf = classifier_algorithm(random_state=40)\n",
    "    else:\n",
    "        downy_clf = classifier_algorithm()\n",
    "        powdery_clf = classifier_algorithm()\n",
    "        anthra_clf = classifier_algorithm()\n",
    "\n",
    "    # Train the models\n",
    "    downy_clf.fit(X_train, y1_train)\n",
    "    powdery_clf.fit(X_train, y2_train)\n",
    "    anthra_clf.fit(X_train, y3_train)\n",
    "\n",
    "    # Make Predictions\n",
    "    y1_pred = downy_clf.predict(X_test)\n",
    "    y2_pred = powdery_clf.predict(X_test)\n",
    "    y3_pred = anthra_clf.predict(X_test)\n",
    "\n",
    "    # Evaluate predictions\n",
    "    print(f\"\"\"\n",
    "    Downy Mildew:\n",
    "        Accuracy: {accuracy_score(y1_test, y1_pred):.4f}\n",
    "        F1 Score: {f1_score(y1_test, y1_pred, average='weighted'):.4f}\n",
    "        Precision: {precision_score(y1_test, y1_pred, average='weighted'):.4f}\n",
    "        Recall: {recall_score(y1_test, y1_pred, average='weighted'):.4f}\n",
    "    \"\"\")\n",
    "    print(f\"\"\"\n",
    "    Powdery Mildew:\n",
    "        Accuracy: {accuracy_score(y2_test, y2_pred):.4f}\n",
    "        F1 Score: {f1_score(y2_test, y2_pred, average='weighted'):.4f}\n",
    "        Precision: {precision_score(y2_test, y2_pred, average='weighted'):.4f}\n",
    "        Recall: {recall_score(y2_test, y2_pred, average='weighted'):.4f}\n",
    "    \"\"\")\n",
    "    print(f\"\"\"\n",
    "    Anthracnose:\n",
    "        Accuracy: {accuracy_score(y3_test, y3_pred):.4f}\n",
    "        F1 Score: {f1_score(y3_test, y3_pred, average='weighted'):.4f}\n",
    "        Precision: {precision_score(y3_test, y3_pred, average='weighted'):.4f}\n",
    "        Recall: {recall_score(y3_test, y3_pred, average='weighted'):.4f}\n",
    "    \"\"\")\n",
    "    return downy_clf, powdery_clf, anthra_clf"
   ]
  },
  {
   "cell_type": "code",
   "execution_count": 42,
   "metadata": {},
   "outputs": [
    {
     "name": "stdout",
     "output_type": "stream",
     "text": [
      "\n",
      "    Downy Mildew:\n",
      "        Accuracy: 0.4655\n",
      "        F1 Score: 0.4354\n",
      "        Precision: 0.4155\n",
      "        Recall: 0.4655\n",
      "    \n",
      "\n",
      "    Powdery Mildew:\n",
      "        Accuracy: 0.3966\n",
      "        F1 Score: 0.4091\n",
      "        Precision: 0.5051\n",
      "        Recall: 0.3966\n",
      "    \n",
      "\n",
      "    Anthracnose:\n",
      "        Accuracy: 0.5345\n",
      "        F1 Score: 0.4817\n",
      "        Precision: 0.4455\n",
      "        Recall: 0.5345\n",
      "    \n"
     ]
    },
    {
     "name": "stderr",
     "output_type": "stream",
     "text": [
      "/home/oneautumleaf/.local/lib/python3.10/site-packages/sklearn/linear_model/_logistic.py:458: ConvergenceWarning: lbfgs failed to converge (status=1):\n",
      "STOP: TOTAL NO. of ITERATIONS REACHED LIMIT.\n",
      "\n",
      "Increase the number of iterations (max_iter) or scale the data as shown in:\n",
      "    https://scikit-learn.org/stable/modules/preprocessing.html\n",
      "Please also refer to the documentation for alternative solver options:\n",
      "    https://scikit-learn.org/stable/modules/linear_model.html#logistic-regression\n",
      "  n_iter_i = _check_optimize_result(\n",
      "/home/oneautumleaf/.local/lib/python3.10/site-packages/sklearn/linear_model/_logistic.py:458: ConvergenceWarning: lbfgs failed to converge (status=1):\n",
      "STOP: TOTAL NO. of ITERATIONS REACHED LIMIT.\n",
      "\n",
      "Increase the number of iterations (max_iter) or scale the data as shown in:\n",
      "    https://scikit-learn.org/stable/modules/preprocessing.html\n",
      "Please also refer to the documentation for alternative solver options:\n",
      "    https://scikit-learn.org/stable/modules/linear_model.html#logistic-regression\n",
      "  n_iter_i = _check_optimize_result(\n",
      "/home/oneautumleaf/.local/lib/python3.10/site-packages/sklearn/linear_model/_logistic.py:458: ConvergenceWarning: lbfgs failed to converge (status=1):\n",
      "STOP: TOTAL NO. of ITERATIONS REACHED LIMIT.\n",
      "\n",
      "Increase the number of iterations (max_iter) or scale the data as shown in:\n",
      "    https://scikit-learn.org/stable/modules/preprocessing.html\n",
      "Please also refer to the documentation for alternative solver options:\n",
      "    https://scikit-learn.org/stable/modules/linear_model.html#logistic-regression\n",
      "  n_iter_i = _check_optimize_result(\n",
      "/home/oneautumleaf/.local/lib/python3.10/site-packages/sklearn/metrics/_classification.py:1344: UndefinedMetricWarning: Precision is ill-defined and being set to 0.0 in labels with no predicted samples. Use `zero_division` parameter to control this behavior.\n",
      "  _warn_prf(average, modifier, msg_start, len(result))\n",
      "/home/oneautumleaf/.local/lib/python3.10/site-packages/sklearn/metrics/_classification.py:1344: UndefinedMetricWarning: Precision is ill-defined and being set to 0.0 in labels with no predicted samples. Use `zero_division` parameter to control this behavior.\n",
      "  _warn_prf(average, modifier, msg_start, len(result))\n"
     ]
    },
    {
     "data": {
      "text/plain": [
       "(LogisticRegression(random_state=40),\n",
       " LogisticRegression(random_state=40),\n",
       " LogisticRegression(random_state=40))"
      ]
     },
     "execution_count": 42,
     "metadata": {},
     "output_type": "execute_result"
    }
   ],
   "source": [
    "get_report(LogisticRegression)"
   ]
  },
  {
   "cell_type": "code",
   "execution_count": 43,
   "metadata": {},
   "outputs": [
    {
     "name": "stdout",
     "output_type": "stream",
     "text": [
      "\n",
      "    Downy Mildew:\n",
      "        Accuracy: 0.6897\n",
      "        F1 Score: 0.6721\n",
      "        Precision: 0.7280\n",
      "        Recall: 0.6897\n",
      "    \n",
      "\n",
      "    Powdery Mildew:\n",
      "        Accuracy: 0.5172\n",
      "        F1 Score: 0.5265\n",
      "        Precision: 0.5532\n",
      "        Recall: 0.5172\n",
      "    \n",
      "\n",
      "    Anthracnose:\n",
      "        Accuracy: 0.5862\n",
      "        F1 Score: 0.5905\n",
      "        Precision: 0.6037\n",
      "        Recall: 0.5862\n",
      "    \n"
     ]
    },
    {
     "name": "stderr",
     "output_type": "stream",
     "text": [
      "/home/oneautumleaf/.local/lib/python3.10/site-packages/sklearn/metrics/_classification.py:1344: UndefinedMetricWarning: Recall is ill-defined and being set to 0.0 in labels with no true samples. Use `zero_division` parameter to control this behavior.\n",
      "  _warn_prf(average, modifier, msg_start, len(result))\n",
      "/home/oneautumleaf/.local/lib/python3.10/site-packages/sklearn/metrics/_classification.py:1344: UndefinedMetricWarning: Recall is ill-defined and being set to 0.0 in labels with no true samples. Use `zero_division` parameter to control this behavior.\n",
      "  _warn_prf(average, modifier, msg_start, len(result))\n"
     ]
    },
    {
     "data": {
      "text/plain": [
       "(DecisionTreeClassifier(random_state=40),\n",
       " DecisionTreeClassifier(random_state=40),\n",
       " DecisionTreeClassifier(random_state=40))"
      ]
     },
     "execution_count": 43,
     "metadata": {},
     "output_type": "execute_result"
    }
   ],
   "source": [
    "get_report(DecisionTreeClassifier)"
   ]
  },
  {
   "cell_type": "code",
   "execution_count": 44,
   "metadata": {},
   "outputs": [
    {
     "name": "stdout",
     "output_type": "stream",
     "text": [
      "\n",
      "    Downy Mildew:\n",
      "        Accuracy: 0.6207\n",
      "        F1 Score: 0.5724\n",
      "        Precision: 0.5388\n",
      "        Recall: 0.6207\n",
      "    \n",
      "\n",
      "    Powdery Mildew:\n",
      "        Accuracy: 0.5862\n",
      "        F1 Score: 0.5906\n",
      "        Precision: 0.6377\n",
      "        Recall: 0.5862\n",
      "    \n",
      "\n",
      "    Anthracnose:\n",
      "        Accuracy: 0.6552\n",
      "        F1 Score: 0.6385\n",
      "        Precision: 0.6395\n",
      "        Recall: 0.6552\n",
      "    \n"
     ]
    },
    {
     "name": "stderr",
     "output_type": "stream",
     "text": [
      "/home/oneautumleaf/.local/lib/python3.10/site-packages/sklearn/metrics/_classification.py:1344: UndefinedMetricWarning: Precision is ill-defined and being set to 0.0 in labels with no predicted samples. Use `zero_division` parameter to control this behavior.\n",
      "  _warn_prf(average, modifier, msg_start, len(result))\n"
     ]
    },
    {
     "data": {
      "text/plain": [
       "(RandomForestClassifier(random_state=40),\n",
       " RandomForestClassifier(random_state=40),\n",
       " RandomForestClassifier(random_state=40))"
      ]
     },
     "execution_count": 44,
     "metadata": {},
     "output_type": "execute_result"
    }
   ],
   "source": [
    "get_report(RandomForestClassifier)"
   ]
  },
  {
   "cell_type": "code",
   "execution_count": 45,
   "metadata": {},
   "outputs": [
    {
     "name": "stdout",
     "output_type": "stream",
     "text": [
      "\n",
      "    Downy Mildew:\n",
      "        Accuracy: 0.5345\n",
      "        F1 Score: 0.5000\n",
      "        Precision: 0.4742\n",
      "        Recall: 0.5345\n",
      "    \n",
      "\n",
      "    Powdery Mildew:\n",
      "        Accuracy: 0.3448\n",
      "        F1 Score: 0.3426\n",
      "        Precision: 0.3543\n",
      "        Recall: 0.3448\n",
      "    \n",
      "\n",
      "    Anthracnose:\n",
      "        Accuracy: 0.6724\n",
      "        F1 Score: 0.5946\n",
      "        Precision: 0.5363\n",
      "        Recall: 0.6724\n",
      "    \n"
     ]
    },
    {
     "name": "stderr",
     "output_type": "stream",
     "text": [
      "/home/oneautumleaf/.local/lib/python3.10/site-packages/sklearn/metrics/_classification.py:1344: UndefinedMetricWarning: Precision is ill-defined and being set to 0.0 in labels with no predicted samples. Use `zero_division` parameter to control this behavior.\n",
      "  _warn_prf(average, modifier, msg_start, len(result))\n",
      "/home/oneautumleaf/.local/lib/python3.10/site-packages/sklearn/metrics/_classification.py:1344: UndefinedMetricWarning: Precision is ill-defined and being set to 0.0 in labels with no predicted samples. Use `zero_division` parameter to control this behavior.\n",
      "  _warn_prf(average, modifier, msg_start, len(result))\n"
     ]
    },
    {
     "data": {
      "text/plain": [
       "(SVC(random_state=40), SVC(random_state=40), SVC(random_state=40))"
      ]
     },
     "execution_count": 45,
     "metadata": {},
     "output_type": "execute_result"
    }
   ],
   "source": [
    "get_report(SVC)"
   ]
  },
  {
   "cell_type": "code",
   "execution_count": 46,
   "metadata": {},
   "outputs": [
    {
     "name": "stdout",
     "output_type": "stream",
     "text": [
      "\n",
      "    Downy Mildew:\n",
      "        Accuracy: 0.6034\n",
      "        F1 Score: 0.5762\n",
      "        Precision: 0.6220\n",
      "        Recall: 0.6034\n",
      "    \n",
      "\n",
      "    Powdery Mildew:\n",
      "        Accuracy: 0.5000\n",
      "        F1 Score: 0.4868\n",
      "        Precision: 0.5325\n",
      "        Recall: 0.5000\n",
      "    \n",
      "\n",
      "    Anthracnose:\n",
      "        Accuracy: 0.6034\n",
      "        F1 Score: 0.5845\n",
      "        Precision: 0.5843\n",
      "        Recall: 0.6034\n",
      "    \n"
     ]
    },
    {
     "data": {
      "text/plain": [
       "(KNeighborsClassifier(), KNeighborsClassifier(), KNeighborsClassifier())"
      ]
     },
     "execution_count": 46,
     "metadata": {},
     "output_type": "execute_result"
    }
   ],
   "source": [
    "get_report(KNeighborsClassifier, use_random_state=False)"
   ]
  },
  {
   "cell_type": "code",
   "execution_count": 47,
   "metadata": {},
   "outputs": [
    {
     "name": "stdout",
     "output_type": "stream",
     "text": [
      "\n",
      "    Downy Mildew:\n",
      "        Accuracy: 0.7069\n",
      "        F1 Score: 0.6543\n",
      "        Precision: 0.6236\n",
      "        Recall: 0.7069\n",
      "    \n",
      "\n",
      "    Powdery Mildew:\n",
      "        Accuracy: 0.6034\n",
      "        F1 Score: 0.5989\n",
      "        Precision: 0.6109\n",
      "        Recall: 0.6034\n",
      "    \n",
      "\n",
      "    Anthracnose:\n",
      "        Accuracy: 0.7414\n",
      "        F1 Score: 0.7320\n",
      "        Precision: 0.7717\n",
      "        Recall: 0.7414\n",
      "    \n"
     ]
    },
    {
     "name": "stderr",
     "output_type": "stream",
     "text": [
      "/home/oneautumleaf/.local/lib/python3.10/site-packages/sklearn/metrics/_classification.py:1344: UndefinedMetricWarning: Precision is ill-defined and being set to 0.0 in labels with no predicted samples. Use `zero_division` parameter to control this behavior.\n",
      "  _warn_prf(average, modifier, msg_start, len(result))\n",
      "/home/oneautumleaf/.local/lib/python3.10/site-packages/sklearn/metrics/_classification.py:1344: UndefinedMetricWarning: Recall is ill-defined and being set to 0.0 in labels with no true samples. Use `zero_division` parameter to control this behavior.\n",
      "  _warn_prf(average, modifier, msg_start, len(result))\n"
     ]
    },
    {
     "data": {
      "text/plain": [
       "(GradientBoostingClassifier(random_state=40),\n",
       " GradientBoostingClassifier(random_state=40),\n",
       " GradientBoostingClassifier(random_state=40))"
      ]
     },
     "execution_count": 47,
     "metadata": {},
     "output_type": "execute_result"
    }
   ],
   "source": [
    "get_report(GradientBoostingClassifier)"
   ]
  },
  {
   "cell_type": "markdown",
   "metadata": {},
   "source": [
    "#### Saving the model"
   ]
  },
  {
   "cell_type": "code",
   "execution_count": 48,
   "metadata": {},
   "outputs": [],
   "source": [
    "import pickle"
   ]
  },
  {
   "cell_type": "code",
   "execution_count": 49,
   "metadata": {},
   "outputs": [
    {
     "name": "stdout",
     "output_type": "stream",
     "text": [
      "\n",
      "    Downy Mildew:\n",
      "        Accuracy: 0.7069\n",
      "        F1 Score: 0.6543\n",
      "        Precision: 0.6236\n",
      "        Recall: 0.7069\n",
      "    \n",
      "\n",
      "    Powdery Mildew:\n",
      "        Accuracy: 0.6034\n",
      "        F1 Score: 0.5989\n",
      "        Precision: 0.6109\n",
      "        Recall: 0.6034\n",
      "    \n",
      "\n",
      "    Anthracnose:\n",
      "        Accuracy: 0.7414\n",
      "        F1 Score: 0.7320\n",
      "        Precision: 0.7717\n",
      "        Recall: 0.7414\n",
      "    \n"
     ]
    },
    {
     "name": "stderr",
     "output_type": "stream",
     "text": [
      "/home/oneautumleaf/.local/lib/python3.10/site-packages/sklearn/metrics/_classification.py:1344: UndefinedMetricWarning: Precision is ill-defined and being set to 0.0 in labels with no predicted samples. Use `zero_division` parameter to control this behavior.\n",
      "  _warn_prf(average, modifier, msg_start, len(result))\n",
      "/home/oneautumleaf/.local/lib/python3.10/site-packages/sklearn/metrics/_classification.py:1344: UndefinedMetricWarning: Recall is ill-defined and being set to 0.0 in labels with no true samples. Use `zero_division` parameter to control this behavior.\n",
      "  _warn_prf(average, modifier, msg_start, len(result))\n"
     ]
    }
   ],
   "source": [
    "downy_clf, powdery_clf, anthra_clf = get_report(GradientBoostingClassifier)"
   ]
  },
  {
   "cell_type": "code",
   "execution_count": 50,
   "metadata": {},
   "outputs": [],
   "source": [
    "pickle.dump(downy_clf, open('../models/downy_mildew_classifier.sav', 'wb'))\n",
    "pickle.dump(powdery_clf, open('../models/powdery_mildew_classifier.sav', 'wb'))\n",
    "pickle.dump(anthra_clf, open('../models/anthracnose_classifier.sav', 'wb'))"
   ]
  }
 ],
 "metadata": {
  "kernelspec": {
   "display_name": "Python 3",
   "language": "python",
   "name": "python3"
  },
  "language_info": {
   "codemirror_mode": {
    "name": "ipython",
    "version": 3
   },
   "file_extension": ".py",
   "mimetype": "text/x-python",
   "name": "python",
   "nbconvert_exporter": "python",
   "pygments_lexer": "ipython3",
   "version": "3.10.12"
  }
 },
 "nbformat": 4,
 "nbformat_minor": 2
}
