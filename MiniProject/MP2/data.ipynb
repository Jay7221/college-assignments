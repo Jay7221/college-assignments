{
 "cells": [
  {
   "cell_type": "code",
   "execution_count": 1,
   "metadata": {},
   "outputs": [],
   "source": [
    "import pandas as pd\n",
    "from datetime import datetime, timedelta"
   ]
  },
  {
   "cell_type": "code",
   "execution_count": 39,
   "metadata": {},
   "outputs": [],
   "source": [
    "df = pd.DataFrame(columns=['Date', 'Downy Mildew', 'Powdery Mildew', 'Anthracnose', 'Others'])"
   ]
  },
  {
   "cell_type": "code",
   "execution_count": 40,
   "metadata": {},
   "outputs": [],
   "source": [
    "start = '4/4/2024'\n",
    "start_date = datetime.strptime(start, '%d/%m/%Y')\n",
    "for i in range(300):\n",
    "    df.loc[i] = [start_date.strftime('%d %B %Y'), '', '', '', '']\n",
    "\n",
    "    start_date -= timedelta(days=7)"
   ]
  },
  {
   "cell_type": "code",
   "execution_count": 41,
   "metadata": {},
   "outputs": [
    {
     "data": {
      "text/html": [
       "<div>\n",
       "<style scoped>\n",
       "    .dataframe tbody tr th:only-of-type {\n",
       "        vertical-align: middle;\n",
       "    }\n",
       "\n",
       "    .dataframe tbody tr th {\n",
       "        vertical-align: top;\n",
       "    }\n",
       "\n",
       "    .dataframe thead th {\n",
       "        text-align: right;\n",
       "    }\n",
       "</style>\n",
       "<table border=\"1\" class=\"dataframe\">\n",
       "  <thead>\n",
       "    <tr style=\"text-align: right;\">\n",
       "      <th></th>\n",
       "      <th>Date</th>\n",
       "      <th>Downy Mildew</th>\n",
       "      <th>Powdery Mildew</th>\n",
       "      <th>Anthracnose</th>\n",
       "      <th>Others</th>\n",
       "    </tr>\n",
       "  </thead>\n",
       "  <tbody>\n",
       "    <tr>\n",
       "      <th>0</th>\n",
       "      <td>04 April 2024</td>\n",
       "      <td></td>\n",
       "      <td></td>\n",
       "      <td></td>\n",
       "      <td></td>\n",
       "    </tr>\n",
       "    <tr>\n",
       "      <th>1</th>\n",
       "      <td>28 March 2024</td>\n",
       "      <td></td>\n",
       "      <td></td>\n",
       "      <td></td>\n",
       "      <td></td>\n",
       "    </tr>\n",
       "    <tr>\n",
       "      <th>2</th>\n",
       "      <td>21 March 2024</td>\n",
       "      <td></td>\n",
       "      <td></td>\n",
       "      <td></td>\n",
       "      <td></td>\n",
       "    </tr>\n",
       "    <tr>\n",
       "      <th>3</th>\n",
       "      <td>14 March 2024</td>\n",
       "      <td></td>\n",
       "      <td></td>\n",
       "      <td></td>\n",
       "      <td></td>\n",
       "    </tr>\n",
       "    <tr>\n",
       "      <th>4</th>\n",
       "      <td>07 March 2024</td>\n",
       "      <td></td>\n",
       "      <td></td>\n",
       "      <td></td>\n",
       "      <td></td>\n",
       "    </tr>\n",
       "    <tr>\n",
       "      <th>...</th>\n",
       "      <td>...</td>\n",
       "      <td>...</td>\n",
       "      <td>...</td>\n",
       "      <td>...</td>\n",
       "      <td>...</td>\n",
       "    </tr>\n",
       "    <tr>\n",
       "      <th>295</th>\n",
       "      <td>09 August 2018</td>\n",
       "      <td></td>\n",
       "      <td></td>\n",
       "      <td></td>\n",
       "      <td></td>\n",
       "    </tr>\n",
       "    <tr>\n",
       "      <th>296</th>\n",
       "      <td>02 August 2018</td>\n",
       "      <td></td>\n",
       "      <td></td>\n",
       "      <td></td>\n",
       "      <td></td>\n",
       "    </tr>\n",
       "    <tr>\n",
       "      <th>297</th>\n",
       "      <td>26 July 2018</td>\n",
       "      <td></td>\n",
       "      <td></td>\n",
       "      <td></td>\n",
       "      <td></td>\n",
       "    </tr>\n",
       "    <tr>\n",
       "      <th>298</th>\n",
       "      <td>19 July 2018</td>\n",
       "      <td></td>\n",
       "      <td></td>\n",
       "      <td></td>\n",
       "      <td></td>\n",
       "    </tr>\n",
       "    <tr>\n",
       "      <th>299</th>\n",
       "      <td>12 July 2018</td>\n",
       "      <td></td>\n",
       "      <td></td>\n",
       "      <td></td>\n",
       "      <td></td>\n",
       "    </tr>\n",
       "  </tbody>\n",
       "</table>\n",
       "<p>300 rows × 5 columns</p>\n",
       "</div>"
      ],
      "text/plain": [
       "               Date Downy Mildew Powdery Mildew Anthracnose Others\n",
       "0     04 April 2024                                               \n",
       "1     28 March 2024                                               \n",
       "2     21 March 2024                                               \n",
       "3     14 March 2024                                               \n",
       "4     07 March 2024                                               \n",
       "..              ...          ...            ...         ...    ...\n",
       "295  09 August 2018                                               \n",
       "296  02 August 2018                                               \n",
       "297    26 July 2018                                               \n",
       "298    19 July 2018                                               \n",
       "299    12 July 2018                                               \n",
       "\n",
       "[300 rows x 5 columns]"
      ]
     },
     "execution_count": 41,
     "metadata": {},
     "output_type": "execute_result"
    }
   ],
   "source": [
    "df"
   ]
  },
  {
   "cell_type": "code",
   "execution_count": 42,
   "metadata": {},
   "outputs": [],
   "source": [
    "df.to_csv('disease_data.csv', index=False)"
   ]
  },
  {
   "cell_type": "code",
   "execution_count": null,
   "metadata": {},
   "outputs": [],
   "source": []
  },
  {
   "cell_type": "markdown",
   "metadata": {},
   "source": [
    "Weather API code"
   ]
  },
  {
   "cell_type": "code",
   "execution_count": 2,
   "metadata": {},
   "outputs": [
    {
     "name": "stdout",
     "output_type": "stream",
     "text": [
      "Weather data:\n",
      "{'coord': {'lon': 74.5642, 'lat': 16.8544}, 'weather': [{'id': 800, 'main': 'Clear', 'description': 'clear sky', 'icon': '01n'}], 'base': 'stations', 'main': {'temp': 299.75, 'feels_like': 299.75, 'temp_min': 299.75, 'temp_max': 299.75, 'pressure': 1010, 'humidity': 40, 'sea_level': 1010, 'grnd_level': 949}, 'visibility': 10000, 'wind': {'speed': 3.12, 'deg': 249, 'gust': 4.1}, 'clouds': {'all': 6}, 'dt': 1713041513, 'sys': {'country': 'IN', 'sunrise': 1713055598, 'sunset': 1713100614}, 'timezone': 19800, 'id': 1257416, 'name': 'Sangli', 'cod': 200}\n"
     ]
    }
   ],
   "source": [
    "import requests\n",
    "import datetime\n",
    "\n",
    "def get_weather(date_str, api_key, location):\n",
    "  \"\"\"Fetches weather data for a given location and date.\n",
    "\n",
    "  Args:\n",
    "      date_str: String in the format \"DD Month YYYY\".\n",
    "      api_key: Your OpenWeatherMap API key.\n",
    "      location: The location for which to get the weather.\n",
    "\n",
    "  Returns:\n",
    "      A dictionary containing weather information or None if an error occurs.\n",
    "  \"\"\"\n",
    "\n",
    "  try:\n",
    "    # Parse the date string\n",
    "    date_obj = datetime.datetime.strptime(date_str, \"%d %B %Y\")\n",
    "\n",
    "    # Convert date to YYYY-MM-DD format\n",
    "    formatted_date = date_obj.strftime(\"%Y-%m-%d\")\n",
    "\n",
    "    # Build the API request URL\n",
    "    url = f\"https://api.openweathermap.org/data/2.5/weather?q={location}&appid={api_key}&dt={formatted_date}\"\n",
    "\n",
    "    # Make the API request\n",
    "    response = requests.get(url)\n",
    "    response.raise_for_status()  # Raise an exception for non-200 status codes\n",
    "\n",
    "    # Parse the JSON response\n",
    "    data = response.json()\n",
    "    return data\n",
    "\n",
    "  except (requests.exceptions.RequestException, ValueError) as e:\n",
    "    print(f\"An error occurred while fetching weather data: {e}\")\n",
    "    return None\n",
    "\n",
    "# Example usage (replace with your API key)\n",
    "api_key = \"7a17c4f953f8c9e4e8701d84b9264f00\"\n",
    "date_str = \"14 July 2023\"\n",
    "\n",
    "weather_data = get_weather(date_str, api_key, \"Sangli\")\n",
    "\n",
    "if weather_data:\n",
    "  print(\"Weather data:\")\n",
    "  print(weather_data)\n",
    "else:\n",
    "  print(\"Failed to retrieve weather data.\")\n"
   ]
  },
  {
   "cell_type": "code",
   "execution_count": 12,
   "metadata": {},
   "outputs": [],
   "source": [
    "from datetime import datetime, timedelta"
   ]
  },
  {
   "cell_type": "code",
   "execution_count": 2,
   "metadata": {},
   "outputs": [],
   "source": [
    "start_date = \"04 April 2023\""
   ]
  },
  {
   "cell_type": "code",
   "execution_count": 14,
   "metadata": {},
   "outputs": [],
   "source": [
    "sdate = datetime.strptime(start_date, \"%d %B %Y\")"
   ]
  },
  {
   "cell_type": "code",
   "execution_count": 15,
   "metadata": {},
   "outputs": [
    {
     "data": {
      "text/plain": [
       "4"
      ]
     },
     "execution_count": 15,
     "metadata": {},
     "output_type": "execute_result"
    }
   ],
   "source": [
    "sdate.day"
   ]
  },
  {
   "cell_type": "code",
   "execution_count": 16,
   "metadata": {},
   "outputs": [
    {
     "data": {
      "text/plain": [
       "4"
      ]
     },
     "execution_count": 16,
     "metadata": {},
     "output_type": "execute_result"
    }
   ],
   "source": [
    "sdate.month"
   ]
  },
  {
   "cell_type": "code",
   "execution_count": 17,
   "metadata": {},
   "outputs": [
    {
     "data": {
      "text/plain": [
       "2023"
      ]
     },
     "execution_count": 17,
     "metadata": {},
     "output_type": "execute_result"
    }
   ],
   "source": [
    "sdate.year"
   ]
  },
  {
   "cell_type": "code",
   "execution_count": 18,
   "metadata": {},
   "outputs": [],
   "source": [
    "sdate += timedelta(days=4)"
   ]
  },
  {
   "cell_type": "code",
   "execution_count": 19,
   "metadata": {},
   "outputs": [
    {
     "data": {
      "text/plain": [
       "'08 April 2023'"
      ]
     },
     "execution_count": 19,
     "metadata": {},
     "output_type": "execute_result"
    }
   ],
   "source": [
    "sdate.strftime(\"%d %B %Y\")"
   ]
  },
  {
   "cell_type": "code",
   "execution_count": null,
   "metadata": {},
   "outputs": [],
   "source": []
  }
 ],
 "metadata": {
  "kernelspec": {
   "display_name": "Python 3",
   "language": "python",
   "name": "python3"
  },
  "language_info": {
   "codemirror_mode": {
    "name": "ipython",
    "version": 3
   },
   "file_extension": ".py",
   "mimetype": "text/x-python",
   "name": "python",
   "nbconvert_exporter": "python",
   "pygments_lexer": "ipython3",
   "version": "3.10.12"
  }
 },
 "nbformat": 4,
 "nbformat_minor": 2
}
